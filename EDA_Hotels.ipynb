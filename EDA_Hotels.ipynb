{
 "cells": [
  {
   "cell_type": "markdown",
   "id": "large-colony",
   "metadata": {},
   "source": [
    "## IMPORTING LIBRARIES"
   ]
  },
  {
   "cell_type": "code",
   "execution_count": 109,
   "id": "ranging-responsibility",
   "metadata": {},
   "outputs": [],
   "source": [
    "import pandas as pd\n",
    "import numpy as np\n",
    "import seaborn as sns\n",
    "import matplotlib.pyplot as plt"
   ]
  },
  {
   "cell_type": "markdown",
   "id": "saved-clear",
   "metadata": {},
   "source": [
    "## IMPORTING A SAMPLE OF THE DATA"
   ]
  },
  {
   "cell_type": "code",
   "execution_count": 110,
   "id": "historical-turkish",
   "metadata": {},
   "outputs": [],
   "source": [
    "\n",
    "df = pd.read_csv('main.tsv', sep='\\t', header=0,nrows = 500000)"
   ]
  },
  {
   "cell_type": "code",
   "execution_count": 111,
   "id": "initial-chocolate",
   "metadata": {},
   "outputs": [
    {
     "data": {
      "text/html": [
       "<div>\n",
       "<style scoped>\n",
       "    .dataframe tbody tr th:only-of-type {\n",
       "        vertical-align: middle;\n",
       "    }\n",
       "\n",
       "    .dataframe tbody tr th {\n",
       "        vertical-align: top;\n",
       "    }\n",
       "\n",
       "    .dataframe thead th {\n",
       "        text-align: right;\n",
       "    }\n",
       "</style>\n",
       "<table border=\"1\" class=\"dataframe\">\n",
       "  <thead>\n",
       "    <tr style=\"text-align: right;\">\n",
       "      <th></th>\n",
       "      <th>user_id</th>\n",
       "      <th>search_id</th>\n",
       "      <th>search_timestamp</th>\n",
       "      <th>point_of_sale</th>\n",
       "      <th>geo_location_country</th>\n",
       "      <th>is_mobile</th>\n",
       "      <th>destination_id</th>\n",
       "      <th>checkin_date</th>\n",
       "      <th>checkout_date</th>\n",
       "      <th>adult_count</th>\n",
       "      <th>child_count</th>\n",
       "      <th>infant_count</th>\n",
       "      <th>room_count</th>\n",
       "      <th>sort_type</th>\n",
       "      <th>applied_filters</th>\n",
       "      <th>impressions</th>\n",
       "    </tr>\n",
       "  </thead>\n",
       "  <tbody>\n",
       "    <tr>\n",
       "      <th>0</th>\n",
       "      <td>001bbff3030c95740d4c55bb72e823e9</td>\n",
       "      <td>541933a931216d270f53277c2de068d0</td>\n",
       "      <td>2021-07-02T19:38:00.000Z</td>\n",
       "      <td>2</td>\n",
       "      <td>1</td>\n",
       "      <td>0</td>\n",
       "      <td>898</td>\n",
       "      <td>2021-07-04</td>\n",
       "      <td>2021-07-05</td>\n",
       "      <td>2</td>\n",
       "      <td>0</td>\n",
       "      <td>0</td>\n",
       "      <td>1</td>\n",
       "      <td>RECOMMENDED</td>\n",
       "      <td>NaN</td>\n",
       "      <td>1,5695234,1,4.0,250.0,2.0,1,0,3,0,0|2,1734546,...</td>\n",
       "    </tr>\n",
       "    <tr>\n",
       "      <th>1</th>\n",
       "      <td>002ba2a7c74dbffc32e4568af230d49a</td>\n",
       "      <td>25b8ebecb15b8f3edb5eed36a1f699b4</td>\n",
       "      <td>2021-06-23T03:39:00.000Z</td>\n",
       "      <td>1</td>\n",
       "      <td>1</td>\n",
       "      <td>0</td>\n",
       "      <td>50</td>\n",
       "      <td>2021-09-10</td>\n",
       "      <td>2021-09-14</td>\n",
       "      <td>2</td>\n",
       "      <td>0</td>\n",
       "      <td>0</td>\n",
       "      <td>1</td>\n",
       "      <td>PRICE ASCENDING</td>\n",
       "      <td>NaN</td>\n",
       "      <td>1,5151135,0,null,null,null,1,1,1,0,0</td>\n",
       "    </tr>\n",
       "    <tr>\n",
       "      <th>2</th>\n",
       "      <td>00c5152ed6ef5b937e8320a260bde084</td>\n",
       "      <td>349c86ff1be41553878e01988ca209d1</td>\n",
       "      <td>2021-06-10T00:08:00.000Z</td>\n",
       "      <td>1</td>\n",
       "      <td>1</td>\n",
       "      <td>0</td>\n",
       "      <td>49</td>\n",
       "      <td>2021-07-07</td>\n",
       "      <td>2021-07-12</td>\n",
       "      <td>2</td>\n",
       "      <td>0</td>\n",
       "      <td>0</td>\n",
       "      <td>1</td>\n",
       "      <td>RECOMMENDED</td>\n",
       "      <td>NaN</td>\n",
       "      <td>1,1624072,0,4.0,1250.0,4.0,1,1,2,1,0|2,5170759...</td>\n",
       "    </tr>\n",
       "    <tr>\n",
       "      <th>3</th>\n",
       "      <td>00d5e2bca7962f67d5695e7e7b92feb8</td>\n",
       "      <td>d3b41f5d906b3f5e56bcafd4a7428634</td>\n",
       "      <td>2021-07-16T01:08:00.000Z</td>\n",
       "      <td>12</td>\n",
       "      <td>1</td>\n",
       "      <td>0</td>\n",
       "      <td>13</td>\n",
       "      <td>2021-08-25</td>\n",
       "      <td>2021-08-28</td>\n",
       "      <td>2</td>\n",
       "      <td>0</td>\n",
       "      <td>0</td>\n",
       "      <td>1</td>\n",
       "      <td>RECOMMENDED</td>\n",
       "      <td>NaN</td>\n",
       "      <td>1,2391667,1,4.0,1625.0,5.0,0,0,5,0,0|2,4930059...</td>\n",
       "    </tr>\n",
       "    <tr>\n",
       "      <th>4</th>\n",
       "      <td>013f92616fe583c4ba0c3919b69cf3d9</td>\n",
       "      <td>a359fd984e5ae5be64af5226dd1e9fe2</td>\n",
       "      <td>2021-07-07T20:49:00.000Z</td>\n",
       "      <td>1</td>\n",
       "      <td>1</td>\n",
       "      <td>0</td>\n",
       "      <td>206</td>\n",
       "      <td>2021-08-30</td>\n",
       "      <td>2021-09-04</td>\n",
       "      <td>1</td>\n",
       "      <td>0</td>\n",
       "      <td>0</td>\n",
       "      <td>1</td>\n",
       "      <td>RECOMMENDED</td>\n",
       "      <td>VIPONLY:FALSE</td>\n",
       "      <td>1,6714720,1,5.0,225.0,3.0,1,0,5,0,0|2,5593294,...</td>\n",
       "    </tr>\n",
       "  </tbody>\n",
       "</table>\n",
       "</div>"
      ],
      "text/plain": [
       "                            user_id                         search_id  \\\n",
       "0  001bbff3030c95740d4c55bb72e823e9  541933a931216d270f53277c2de068d0   \n",
       "1  002ba2a7c74dbffc32e4568af230d49a  25b8ebecb15b8f3edb5eed36a1f699b4   \n",
       "2  00c5152ed6ef5b937e8320a260bde084  349c86ff1be41553878e01988ca209d1   \n",
       "3  00d5e2bca7962f67d5695e7e7b92feb8  d3b41f5d906b3f5e56bcafd4a7428634   \n",
       "4  013f92616fe583c4ba0c3919b69cf3d9  a359fd984e5ae5be64af5226dd1e9fe2   \n",
       "\n",
       "           search_timestamp  point_of_sale  geo_location_country  is_mobile  \\\n",
       "0  2021-07-02T19:38:00.000Z              2                     1          0   \n",
       "1  2021-06-23T03:39:00.000Z              1                     1          0   \n",
       "2  2021-06-10T00:08:00.000Z              1                     1          0   \n",
       "3  2021-07-16T01:08:00.000Z             12                     1          0   \n",
       "4  2021-07-07T20:49:00.000Z              1                     1          0   \n",
       "\n",
       "   destination_id checkin_date checkout_date  adult_count  child_count  \\\n",
       "0             898   2021-07-04    2021-07-05            2            0   \n",
       "1              50   2021-09-10    2021-09-14            2            0   \n",
       "2              49   2021-07-07    2021-07-12            2            0   \n",
       "3              13   2021-08-25    2021-08-28            2            0   \n",
       "4             206   2021-08-30    2021-09-04            1            0   \n",
       "\n",
       "   infant_count  room_count        sort_type applied_filters  \\\n",
       "0             0           1      RECOMMENDED             NaN   \n",
       "1             0           1  PRICE ASCENDING             NaN   \n",
       "2             0           1      RECOMMENDED             NaN   \n",
       "3             0           1      RECOMMENDED             NaN   \n",
       "4             0           1      RECOMMENDED   VIPONLY:FALSE   \n",
       "\n",
       "                                         impressions  \n",
       "0  1,5695234,1,4.0,250.0,2.0,1,0,3,0,0|2,1734546,...  \n",
       "1               1,5151135,0,null,null,null,1,1,1,0,0  \n",
       "2  1,1624072,0,4.0,1250.0,4.0,1,1,2,1,0|2,5170759...  \n",
       "3  1,2391667,1,4.0,1625.0,5.0,0,0,5,0,0|2,4930059...  \n",
       "4  1,6714720,1,5.0,225.0,3.0,1,0,5,0,0|2,5593294,...  "
      ]
     },
     "execution_count": 111,
     "metadata": {},
     "output_type": "execute_result"
    }
   ],
   "source": [
    "# Illustration of the top 5 rows in order to see how our table looks like\n",
    "df.head()"
   ]
  },
  {
   "cell_type": "markdown",
   "id": "vital-chosen",
   "metadata": {},
   "source": [
    "# EXPLORATORY DATA ANALYSIS"
   ]
  },
  {
   "cell_type": "markdown",
   "id": "visible-excitement",
   "metadata": {},
   "source": [
    "#### See how many unique users are involved in this dataset, and how many are there in total."
   ]
  },
  {
   "cell_type": "code",
   "execution_count": 112,
   "id": "correct-christian",
   "metadata": {},
   "outputs": [
    {
     "name": "stdout",
     "output_type": "stream",
     "text": [
      "Some users have visited the points of sales more than once\n",
      "Total unique users:  157145  and total data entries:  500000\n"
     ]
    }
   ],
   "source": [
    "if df['user_id'].nunique() == len(df):\n",
    "    print('All users have explored only once')\n",
    "else: print('Some users have visited the points of sales more than once')\n",
    "print('Total unique users: ',df['user_id'].nunique(),' and total data entries: ',len(df))"
   ]
  },
  {
   "cell_type": "markdown",
   "id": "suspected-spotlight",
   "metadata": {},
   "source": [
    "#### Let's see how many searches were conducted via cellphone and how many not"
   ]
  },
  {
   "cell_type": "code",
   "execution_count": 113,
   "id": "laughing-astrology",
   "metadata": {},
   "outputs": [
    {
     "data": {
      "image/png": "[encoded data removed]",
      "text/plain": [
       "<Figure size 432x288 with 1 Axes>"
      ]
     },
     "metadata": {
      "needs_background": "light"
     },
     "output_type": "display_data"
    }
   ],
   "source": [
    "ax = sns.countplot(x=\"is_mobile\", data=df)"
   ]
  },
  {
   "cell_type": "markdown",
   "id": "gross-cincinnati",
   "metadata": {},
   "source": [
    "As it looks many searches were conducted without date restrictions"
   ]
  },
  {
   "cell_type": "markdown",
   "id": "important-silicon",
   "metadata": {},
   "source": [
    "#### Types of columns and Quantity of Nan Values"
   ]
  },
  {
   "cell_type": "code",
   "execution_count": 114,
   "id": "breathing-communications",
   "metadata": {},
   "outputs": [
    {
     "data": {
      "text/plain": [
       "user_id                 object\n",
       "search_id               object\n",
       "search_timestamp        object\n",
       "point_of_sale            int64\n",
       "geo_location_country     int64\n",
       "is_mobile                int64\n",
       "destination_id           int64\n",
       "checkin_date            object\n",
       "checkout_date           object\n",
       "adult_count              int64\n",
       "child_count              int64\n",
       "infant_count             int64\n",
       "room_count               int64\n",
       "sort_type               object\n",
       "applied_filters         object\n",
       "impressions             object\n",
       "dtype: object"
      ]
     },
     "execution_count": 114,
     "metadata": {},
     "output_type": "execute_result"
    }
   ],
   "source": [
    "df.dtypes"
   ]
  },
  {
   "cell_type": "code",
   "execution_count": 115,
   "id": "perfect-response",
   "metadata": {},
   "outputs": [
    {
     "data": {
      "text/plain": [
       "user_id                      0\n",
       "search_id                    0\n",
       "search_timestamp             0\n",
       "point_of_sale                0\n",
       "geo_location_country         0\n",
       "is_mobile                    0\n",
       "destination_id               0\n",
       "checkin_date                33\n",
       "checkout_date               33\n",
       "adult_count                  0\n",
       "child_count                  0\n",
       "infant_count                 0\n",
       "room_count                   0\n",
       "sort_type                    0\n",
       "applied_filters         334596\n",
       "impressions                  0\n",
       "dtype: int64"
      ]
     },
     "execution_count": 115,
     "metadata": {},
     "output_type": "execute_result"
    }
   ],
   "source": [
    "# As it looks many searches were conducted without date restrictions\n",
    "df.isna().sum()"
   ]
  },
  {
   "cell_type": "markdown",
   "id": "welsh-memorial",
   "metadata": {},
   "source": [
    "Nan values on dates means that searches were conducted without date restrictions"
   ]
  },
  {
   "cell_type": "markdown",
   "id": "opening-aluminum",
   "metadata": {},
   "source": [
    "#### New column --> 'days_before_staying'"
   ]
  },
  {
   "cell_type": "markdown",
   "id": "becoming-block",
   "metadata": {},
   "source": [
    "In order to see how many days before the check in date the search was conducted,\n",
    "the new column was created."
   ]
  },
  {
   "cell_type": "code",
   "execution_count": 116,
   "id": "quiet-recorder",
   "metadata": {},
   "outputs": [],
   "source": [
    "\n",
    "def correct_neg(x): # Created in order to substitute negative entries with Nan values on the below column\n",
    "    if x<0:\n",
    "        x= None\n",
    "    return x"
   ]
  },
  {
   "cell_type": "code",
   "execution_count": 117,
   "id": "difficult-extent",
   "metadata": {},
   "outputs": [],
   "source": [
    "#Extracting date out of the timestamp. This aims to see how\n",
    "# many days before staying did the search take place\n",
    "df['search_date'] = df['search_timestamp'].str[:10]\n",
    "df['search_date']= pd.to_datetime(df['search_date'])\n",
    "df['check_date']= pd.to_datetime(df['checkin_date'])\n",
    "df['days_before_staying'] = df['check_date'] - df['search_date']\n",
    "df['days_before_staying'] = pd.to_timedelta(df['days_before_staying'], errors='coerce').dt.days\n",
    "df['days_before_staying'] = df['days_before_staying'].apply(correct_neg)"
   ]
  },
  {
   "cell_type": "markdown",
   "id": "sunrise-needle",
   "metadata": {},
   "source": [
    "The distribution of the days before can be illustrated below"
   ]
  },
  {
   "cell_type": "code",
   "execution_count": 118,
   "id": "awful-dodge",
   "metadata": {},
   "outputs": [
    {
     "name": "stderr",
     "output_type": "stream",
     "text": [
      "c:\\users\\ezet\\appdata\\local\\programs\\python\\python39\\lib\\site-packages\\seaborn\\distributions.py:2557: FutureWarning: `distplot` is a deprecated function and will be removed in a future version. Please adapt your code to use either `displot` (a figure-level function with similar flexibility) or `histplot` (an axes-level function for histograms).\n",
      "  warnings.warn(msg, FutureWarning)\n"
     ]
    },
    {
     "data": {
      "image/png": "[encoded data removed]",
      "text/plain": [
       "<Figure size 432x288 with 1 Axes>"
      ]
     },
     "metadata": {
      "needs_background": "light"
     },
     "output_type": "display_data"
    }
   ],
   "source": [
    "ax = sns.distplot(x=df['days_before_staying'],axlabel='days')\n",
    "\n",
    "# We see that most of the people do not schedule much ahead. Maybe they decide vacations or business at the \n",
    "#very last moment, or waiting for something better to rise until the last moment"
   ]
  },
  {
   "cell_type": "markdown",
   "id": "sublime-canberra",
   "metadata": {},
   "source": [
    "The date range of the searches is calculated below"
   ]
  },
  {
   "cell_type": "code",
   "execution_count": 119,
   "id": "lasting-vegetation",
   "metadata": {},
   "outputs": [
    {
     "name": "stdout",
     "output_type": "stream",
     "text": [
      "The collected data are searches between  2021-06-01  and  2021-07-31\n"
     ]
    }
   ],
   "source": [
    "print('The collected data are searches between ',min(df['search_date'].dt.date),' and ',\n",
    "      max(df['search_date'].dt.date))"
   ]
  },
  {
   "cell_type": "code",
   "execution_count": 120,
   "id": "stretch-string",
   "metadata": {},
   "outputs": [
    {
     "data": {
      "image/png": "[encoded data removed]",
      "text/plain": [
       "<Figure size 432x288 with 1 Axes>"
      ]
     },
     "metadata": {
      "needs_background": "light"
     },
     "output_type": "display_data"
    }
   ],
   "source": [
    "# How many rooms were the searches about\n",
    "ax = sns.countplot(x=df['room_count'])"
   ]
  },
  {
   "cell_type": "markdown",
   "id": "banned-contemporary",
   "metadata": {},
   "source": [
    "Most of the times the searches were about one room."
   ]
  },
  {
   "cell_type": "markdown",
   "id": "familiar-brain",
   "metadata": {},
   "source": [
    "#### Data Types Transformation"
   ]
  },
  {
   "cell_type": "code",
   "execution_count": 121,
   "id": "reliable-channels",
   "metadata": {},
   "outputs": [],
   "source": [
    "df['point_of_sale'] = df['point_of_sale'].astype('str')\n",
    "df['geo_location_country'] = df['geo_location_country'].astype('str')\n",
    "df['destination_id'] = df['destination_id'].astype('str')"
   ]
  },
  {
   "cell_type": "code",
   "execution_count": 122,
   "id": "accessible-label",
   "metadata": {},
   "outputs": [
    {
     "data": {
      "text/plain": [
       "user_id                         object\n",
       "search_id                       object\n",
       "search_timestamp                object\n",
       "point_of_sale                   object\n",
       "geo_location_country            object\n",
       "is_mobile                        int64\n",
       "destination_id                  object\n",
       "checkin_date                    object\n",
       "checkout_date                   object\n",
       "adult_count                      int64\n",
       "child_count                      int64\n",
       "infant_count                     int64\n",
       "room_count                       int64\n",
       "sort_type                       object\n",
       "applied_filters                 object\n",
       "impressions                     object\n",
       "search_date             datetime64[ns]\n",
       "check_date              datetime64[ns]\n",
       "days_before_staying            float64\n",
       "dtype: object"
      ]
     },
     "execution_count": 122,
     "metadata": {},
     "output_type": "execute_result"
    }
   ],
   "source": [
    "df.dtypes"
   ]
  },
  {
   "cell_type": "markdown",
   "id": "pressed-underground",
   "metadata": {},
   "source": [
    "#### New column revealing whether minors are included or not"
   ]
  },
  {
   "cell_type": "code",
   "execution_count": 123,
   "id": "periodic-fields",
   "metadata": {},
   "outputs": [],
   "source": [
    "def child_bool(x, y): \n",
    "    return x + y  > 0  "
   ]
  },
  {
   "cell_type": "code",
   "execution_count": 124,
   "id": "backed-screen",
   "metadata": {},
   "outputs": [],
   "source": [
    "df['with_children'] =df.apply(lambda x: child_bool(x['child_count'], x['infant_count']), axis=1)"
   ]
  },
  {
   "cell_type": "code",
   "execution_count": 125,
   "id": "linear-consciousness",
   "metadata": {},
   "outputs": [
    {
     "data": {
      "text/plain": [
       "False    431390\n",
       "True      68610\n",
       "Name: with_children, dtype: int64"
      ]
     },
     "execution_count": 125,
     "metadata": {},
     "output_type": "execute_result"
    }
   ],
   "source": [
    "# How many searches included chuldren and how many not\n",
    "df['with_children'].value_counts()"
   ]
  },
  {
   "cell_type": "code",
   "execution_count": 126,
   "id": "ordered-baker",
   "metadata": {},
   "outputs": [],
   "source": [
    "# Total people of each search\n",
    "df['total_people'] = df['adult_count']+ df['child_count']+df['infant_count']"
   ]
  },
  {
   "cell_type": "code",
   "execution_count": 127,
   "id": "designed-stand",
   "metadata": {},
   "outputs": [
    {
     "name": "stderr",
     "output_type": "stream",
     "text": [
      "c:\\users\\ezet\\appdata\\local\\programs\\python\\python39\\lib\\site-packages\\seaborn\\distributions.py:2557: FutureWarning: `distplot` is a deprecated function and will be removed in a future version. Please adapt your code to use either `displot` (a figure-level function with similar flexibility) or `histplot` (an axes-level function for histograms).\n",
      "  warnings.warn(msg, FutureWarning)\n",
      "c:\\users\\ezet\\appdata\\local\\programs\\python\\python39\\lib\\site-packages\\seaborn\\distributions.py:2557: FutureWarning: `distplot` is a deprecated function and will be removed in a future version. Please adapt your code to use either `displot` (a figure-level function with similar flexibility) or `histplot` (an axes-level function for histograms).\n",
      "  warnings.warn(msg, FutureWarning)\n"
     ]
    },
    {
     "data": {
      "text/plain": [
       "<matplotlib.legend.Legend at 0x18624a44340>"
      ]
     },
     "execution_count": 127,
     "metadata": {},
     "output_type": "execute_result"
    },
    {
     "data": {
      "image/png": "[encoded data removed]",
      "text/plain": [
       "<Figure size 432x288 with 1 Axes>"
      ]
     },
     "metadata": {
      "needs_background": "light"
     },
     "output_type": "display_data"
    }
   ],
   "source": [
    "# Comparison bwtween distributions of total people whether kids are included or not\n",
    "sns.distplot(df[~df['with_children']]['total_people'], label='no children', color='C0')\n",
    "sns.distplot(df[df['with_children']]['total_people'], label='children', color='C1')\n",
    "\n",
    "plt.legend()"
   ]
  },
  {
   "cell_type": "markdown",
   "id": "natural-disco",
   "metadata": {},
   "source": [
    "# EXPORTING CLICKED AND BOOKED HOTELS BY USER\n",
    "# OUT OF ATTRIBUTE: 'IMPRESSIONS'"
   ]
  },
  {
   "cell_type": "markdown",
   "id": "minimal-allowance",
   "metadata": {},
   "source": [
    " The following function is accepting as\n",
    "input a string and splits it on char '|'\n",
    "If the strings that were designed after the split have as last 3 characters these--> '0,0'\n",
    "it means that this string's hotel was neither clicked nor booked. I do this in order to keep\n",
    "the rest of the hotels. So the function return the strings with hotels booked or clicked"
   ]
  },
  {
   "cell_type": "code",
   "execution_count": 128,
   "id": "direct-movie",
   "metadata": {},
   "outputs": [],
   "source": [
    "\n",
    "def func(x):\n",
    "    b = []\n",
    "    x = x.split('|')\n",
    "    for i in x:\n",
    "        if i[-3:] != '0,0':\n",
    "            b.append(i)\n",
    "    if len(b) == 0:\n",
    "        b = 0\n",
    "    return b"
   ]
  },
  {
   "cell_type": "markdown",
   "id": "psychological-snapshot",
   "metadata": {},
   "source": [
    "Applying the function on the impressions columns"
   ]
  },
  {
   "cell_type": "code",
   "execution_count": 129,
   "id": "foster-alberta",
   "metadata": {},
   "outputs": [],
   "source": [
    "\n",
    "df['impressions'] = df['impressions'].apply(func)"
   ]
  },
  {
   "cell_type": "code",
   "execution_count": 130,
   "id": "alternate-reducing",
   "metadata": {},
   "outputs": [],
   "source": [
    "df = df[['user_id','search_timestamp', \"days_before_staying\",'impressions']]"
   ]
  },
  {
   "cell_type": "code",
   "execution_count": 131,
   "id": "fourth-grave",
   "metadata": {},
   "outputs": [
    {
     "data": {
      "text/html": [
       "<div>\n",
       "<style scoped>\n",
       "    .dataframe tbody tr th:only-of-type {\n",
       "        vertical-align: middle;\n",
       "    }\n",
       "\n",
       "    .dataframe tbody tr th {\n",
       "        vertical-align: top;\n",
       "    }\n",
       "\n",
       "    .dataframe thead th {\n",
       "        text-align: right;\n",
       "    }\n",
       "</style>\n",
       "<table border=\"1\" class=\"dataframe\">\n",
       "  <thead>\n",
       "    <tr style=\"text-align: right;\">\n",
       "      <th></th>\n",
       "      <th>user_id</th>\n",
       "      <th>search_timestamp</th>\n",
       "      <th>days_before_staying</th>\n",
       "      <th>impressions</th>\n",
       "    </tr>\n",
       "  </thead>\n",
       "  <tbody>\n",
       "    <tr>\n",
       "      <th>0</th>\n",
       "      <td>001bbff3030c95740d4c55bb72e823e9</td>\n",
       "      <td>2021-07-02T19:38:00.000Z</td>\n",
       "      <td>2.0</td>\n",
       "      <td>[7,2722643,0,4.0,75.0,3.0,1,1,2,1,0, 9,1197530...</td>\n",
       "    </tr>\n",
       "    <tr>\n",
       "      <th>1</th>\n",
       "      <td>002ba2a7c74dbffc32e4568af230d49a</td>\n",
       "      <td>2021-06-23T03:39:00.000Z</td>\n",
       "      <td>79.0</td>\n",
       "      <td>0</td>\n",
       "    </tr>\n",
       "    <tr>\n",
       "      <th>2</th>\n",
       "      <td>00c5152ed6ef5b937e8320a260bde084</td>\n",
       "      <td>2021-06-10T00:08:00.000Z</td>\n",
       "      <td>27.0</td>\n",
       "      <td>[1,1624072,0,4.0,1250.0,4.0,1,1,2,1,0]</td>\n",
       "    </tr>\n",
       "    <tr>\n",
       "      <th>3</th>\n",
       "      <td>00d5e2bca7962f67d5695e7e7b92feb8</td>\n",
       "      <td>2021-07-16T01:08:00.000Z</td>\n",
       "      <td>40.0</td>\n",
       "      <td>0</td>\n",
       "    </tr>\n",
       "    <tr>\n",
       "      <th>4</th>\n",
       "      <td>013f92616fe583c4ba0c3919b69cf3d9</td>\n",
       "      <td>2021-07-07T20:49:00.000Z</td>\n",
       "      <td>54.0</td>\n",
       "      <td>0</td>\n",
       "    </tr>\n",
       "    <tr>\n",
       "      <th>...</th>\n",
       "      <td>...</td>\n",
       "      <td>...</td>\n",
       "      <td>...</td>\n",
       "      <td>...</td>\n",
       "    </tr>\n",
       "    <tr>\n",
       "      <th>499995</th>\n",
       "      <td>cc87cfbbf5d2ab94f527a4b774a7c58b</td>\n",
       "      <td>2021-06-06T23:05:00.000Z</td>\n",
       "      <td>8.0</td>\n",
       "      <td>0</td>\n",
       "    </tr>\n",
       "    <tr>\n",
       "      <th>499996</th>\n",
       "      <td>cc87cfbbf5d2ab94f527a4b774a7c58b</td>\n",
       "      <td>2021-06-06T23:05:00.000Z</td>\n",
       "      <td>7.0</td>\n",
       "      <td>0</td>\n",
       "    </tr>\n",
       "    <tr>\n",
       "      <th>499997</th>\n",
       "      <td>cc87cfbbf5d2ab94f527a4b774a7c58b</td>\n",
       "      <td>2021-06-06T23:05:00.000Z</td>\n",
       "      <td>7.0</td>\n",
       "      <td>0</td>\n",
       "    </tr>\n",
       "    <tr>\n",
       "      <th>499998</th>\n",
       "      <td>cc87cfbbf5d2ab94f527a4b774a7c58b</td>\n",
       "      <td>2021-06-06T23:07:00.000Z</td>\n",
       "      <td>8.0</td>\n",
       "      <td>0</td>\n",
       "    </tr>\n",
       "    <tr>\n",
       "      <th>499999</th>\n",
       "      <td>cc87cfbbf5d2ab94f527a4b774a7c58b</td>\n",
       "      <td>2021-06-06T23:07:00.000Z</td>\n",
       "      <td>7.0</td>\n",
       "      <td>0</td>\n",
       "    </tr>\n",
       "  </tbody>\n",
       "</table>\n",
       "<p>500000 rows × 4 columns</p>\n",
       "</div>"
      ],
      "text/plain": [
       "                                 user_id          search_timestamp  \\\n",
       "0       001bbff3030c95740d4c55bb72e823e9  2021-07-02T19:38:00.000Z   \n",
       "1       002ba2a7c74dbffc32e4568af230d49a  2021-06-23T03:39:00.000Z   \n",
       "2       00c5152ed6ef5b937e8320a260bde084  2021-06-10T00:08:00.000Z   \n",
       "3       00d5e2bca7962f67d5695e7e7b92feb8  2021-07-16T01:08:00.000Z   \n",
       "4       013f92616fe583c4ba0c3919b69cf3d9  2021-07-07T20:49:00.000Z   \n",
       "...                                  ...                       ...   \n",
       "499995  cc87cfbbf5d2ab94f527a4b774a7c58b  2021-06-06T23:05:00.000Z   \n",
       "499996  cc87cfbbf5d2ab94f527a4b774a7c58b  2021-06-06T23:05:00.000Z   \n",
       "499997  cc87cfbbf5d2ab94f527a4b774a7c58b  2021-06-06T23:05:00.000Z   \n",
       "499998  cc87cfbbf5d2ab94f527a4b774a7c58b  2021-06-06T23:07:00.000Z   \n",
       "499999  cc87cfbbf5d2ab94f527a4b774a7c58b  2021-06-06T23:07:00.000Z   \n",
       "\n",
       "        days_before_staying                                        impressions  \n",
       "0                       2.0  [7,2722643,0,4.0,75.0,3.0,1,1,2,1,0, 9,1197530...  \n",
       "1                      79.0                                                  0  \n",
       "2                      27.0             [1,1624072,0,4.0,1250.0,4.0,1,1,2,1,0]  \n",
       "3                      40.0                                                  0  \n",
       "4                      54.0                                                  0  \n",
       "...                     ...                                                ...  \n",
       "499995                  8.0                                                  0  \n",
       "499996                  7.0                                                  0  \n",
       "499997                  7.0                                                  0  \n",
       "499998                  8.0                                                  0  \n",
       "499999                  7.0                                                  0  \n",
       "\n",
       "[500000 rows x 4 columns]"
      ]
     },
     "execution_count": 131,
     "metadata": {},
     "output_type": "execute_result"
    }
   ],
   "source": [
    "df"
   ]
  },
  {
   "cell_type": "code",
   "execution_count": 132,
   "id": "polish-sympathy",
   "metadata": {},
   "outputs": [],
   "source": [
    "# Getting rid of searches without clicks\n",
    "df =df[df['impressions']!=0]"
   ]
  },
  {
   "cell_type": "code",
   "execution_count": 133,
   "id": "subsequent-dating",
   "metadata": {},
   "outputs": [],
   "source": [
    "#resetting index\n",
    "df = df.reset_index()"
   ]
  },
  {
   "cell_type": "code",
   "execution_count": 134,
   "id": "desirable-appreciation",
   "metadata": {},
   "outputs": [],
   "source": [
    "#dropping the previous index column\n",
    "df.drop('index', inplace=True, axis=1)"
   ]
  },
  {
   "cell_type": "code",
   "execution_count": 135,
   "id": "technical-therapist",
   "metadata": {},
   "outputs": [
    {
     "data": {
      "text/html": [
       "<div>\n",
       "<style scoped>\n",
       "    .dataframe tbody tr th:only-of-type {\n",
       "        vertical-align: middle;\n",
       "    }\n",
       "\n",
       "    .dataframe tbody tr th {\n",
       "        vertical-align: top;\n",
       "    }\n",
       "\n",
       "    .dataframe thead th {\n",
       "        text-align: right;\n",
       "    }\n",
       "</style>\n",
       "<table border=\"1\" class=\"dataframe\">\n",
       "  <thead>\n",
       "    <tr style=\"text-align: right;\">\n",
       "      <th></th>\n",
       "      <th>user_id</th>\n",
       "      <th>search_timestamp</th>\n",
       "      <th>days_before_staying</th>\n",
       "      <th>impressions</th>\n",
       "    </tr>\n",
       "  </thead>\n",
       "  <tbody>\n",
       "    <tr>\n",
       "      <th>0</th>\n",
       "      <td>001bbff3030c95740d4c55bb72e823e9</td>\n",
       "      <td>2021-07-02T19:38:00.000Z</td>\n",
       "      <td>2.0</td>\n",
       "      <td>[7,2722643,0,4.0,75.0,3.0,1,1,2,1,0, 9,1197530...</td>\n",
       "    </tr>\n",
       "    <tr>\n",
       "      <th>1</th>\n",
       "      <td>00c5152ed6ef5b937e8320a260bde084</td>\n",
       "      <td>2021-06-10T00:08:00.000Z</td>\n",
       "      <td>27.0</td>\n",
       "      <td>[1,1624072,0,4.0,1250.0,4.0,1,1,2,1,0]</td>\n",
       "    </tr>\n",
       "    <tr>\n",
       "      <th>2</th>\n",
       "      <td>016f433e1e98146912a7c2600c2ad3f0</td>\n",
       "      <td>2021-06-25T05:54:00.000Z</td>\n",
       "      <td>30.0</td>\n",
       "      <td>[1,1417933,0,4.0,200.0,3.0,1,0,1,2,0]</td>\n",
       "    </tr>\n",
       "    <tr>\n",
       "      <th>3</th>\n",
       "      <td>01a367de6a4a099fbd380ad28f9314aa</td>\n",
       "      <td>2021-06-10T22:04:00.000Z</td>\n",
       "      <td>53.0</td>\n",
       "      <td>[1,4291709,0,4.0,1025.0,3.0,1,0,5,1,0]</td>\n",
       "    </tr>\n",
       "    <tr>\n",
       "      <th>4</th>\n",
       "      <td>028382cf0696909da6c5bc201a4a2027</td>\n",
       "      <td>2021-06-04T09:01:00.000Z</td>\n",
       "      <td>14.0</td>\n",
       "      <td>[1,1767157,0,4.0,25.0,5.0,1,1,4,2,0]</td>\n",
       "    </tr>\n",
       "    <tr>\n",
       "      <th>...</th>\n",
       "      <td>...</td>\n",
       "      <td>...</td>\n",
       "      <td>...</td>\n",
       "      <td>...</td>\n",
       "    </tr>\n",
       "    <tr>\n",
       "      <th>95163</th>\n",
       "      <td>cbd24371f2930cbbd340d5f8e2c2eb02</td>\n",
       "      <td>2021-07-29T16:37:00.000Z</td>\n",
       "      <td>21.0</td>\n",
       "      <td>[25,6308466,0,5.0,300.0,4.0,1,0,4,1,0]</td>\n",
       "    </tr>\n",
       "    <tr>\n",
       "      <th>95164</th>\n",
       "      <td>cc083eb6383c22b422d36e2b6ddf08a5</td>\n",
       "      <td>2021-06-29T09:37:00.000Z</td>\n",
       "      <td>3.0</td>\n",
       "      <td>[5,1612315,0,5.0,25.0,null,0,0,4,1,0]</td>\n",
       "    </tr>\n",
       "    <tr>\n",
       "      <th>95165</th>\n",
       "      <td>cc48bc142619c06d53b26709cffc5ab5</td>\n",
       "      <td>2021-07-25T10:53:00.000Z</td>\n",
       "      <td>2.0</td>\n",
       "      <td>[2,2440770,0,4.0,125.0,4.0,0,1,2,1,0, 46,51998...</td>\n",
       "    </tr>\n",
       "    <tr>\n",
       "      <th>95166</th>\n",
       "      <td>cc48bc142619c06d53b26709cffc5ab5</td>\n",
       "      <td>2021-07-25T10:54:00.000Z</td>\n",
       "      <td>3.0</td>\n",
       "      <td>[2,2440770,0,4.0,125.0,4.0,0,1,1,1,0, 3,531911...</td>\n",
       "    </tr>\n",
       "    <tr>\n",
       "      <th>95167</th>\n",
       "      <td>cc7ca40183776c34d32d93ffd765a029</td>\n",
       "      <td>2021-06-09T15:29:00.000Z</td>\n",
       "      <td>0.0</td>\n",
       "      <td>[2,1986267,0,4.0,275.0,2.0,0,0,3,1,0, 4,368140...</td>\n",
       "    </tr>\n",
       "  </tbody>\n",
       "</table>\n",
       "<p>95168 rows × 4 columns</p>\n",
       "</div>"
      ],
      "text/plain": [
       "                                user_id          search_timestamp  \\\n",
       "0      001bbff3030c95740d4c55bb72e823e9  2021-07-02T19:38:00.000Z   \n",
       "1      00c5152ed6ef5b937e8320a260bde084  2021-06-10T00:08:00.000Z   \n",
       "2      016f433e1e98146912a7c2600c2ad3f0  2021-06-25T05:54:00.000Z   \n",
       "3      01a367de6a4a099fbd380ad28f9314aa  2021-06-10T22:04:00.000Z   \n",
       "4      028382cf0696909da6c5bc201a4a2027  2021-06-04T09:01:00.000Z   \n",
       "...                                 ...                       ...   \n",
       "95163  cbd24371f2930cbbd340d5f8e2c2eb02  2021-07-29T16:37:00.000Z   \n",
       "95164  cc083eb6383c22b422d36e2b6ddf08a5  2021-06-29T09:37:00.000Z   \n",
       "95165  cc48bc142619c06d53b26709cffc5ab5  2021-07-25T10:53:00.000Z   \n",
       "95166  cc48bc142619c06d53b26709cffc5ab5  2021-07-25T10:54:00.000Z   \n",
       "95167  cc7ca40183776c34d32d93ffd765a029  2021-06-09T15:29:00.000Z   \n",
       "\n",
       "       days_before_staying                                        impressions  \n",
       "0                      2.0  [7,2722643,0,4.0,75.0,3.0,1,1,2,1,0, 9,1197530...  \n",
       "1                     27.0             [1,1624072,0,4.0,1250.0,4.0,1,1,2,1,0]  \n",
       "2                     30.0              [1,1417933,0,4.0,200.0,3.0,1,0,1,2,0]  \n",
       "3                     53.0             [1,4291709,0,4.0,1025.0,3.0,1,0,5,1,0]  \n",
       "4                     14.0               [1,1767157,0,4.0,25.0,5.0,1,1,4,2,0]  \n",
       "...                    ...                                                ...  \n",
       "95163                 21.0             [25,6308466,0,5.0,300.0,4.0,1,0,4,1,0]  \n",
       "95164                  3.0              [5,1612315,0,5.0,25.0,null,0,0,4,1,0]  \n",
       "95165                  2.0  [2,2440770,0,4.0,125.0,4.0,0,1,2,1,0, 46,51998...  \n",
       "95166                  3.0  [2,2440770,0,4.0,125.0,4.0,0,1,1,1,0, 3,531911...  \n",
       "95167                  0.0  [2,1986267,0,4.0,275.0,2.0,0,0,3,1,0, 4,368140...  \n",
       "\n",
       "[95168 rows x 4 columns]"
      ]
     },
     "execution_count": 135,
     "metadata": {},
     "output_type": "execute_result"
    }
   ],
   "source": [
    "df"
   ]
  },
  {
   "cell_type": "markdown",
   "id": "american-intelligence",
   "metadata": {},
   "source": [
    "#### I brought the dataset to a structure where only the hotels clicked or booked are included.\n",
    "#### Next I will create a dataset in which each row will be about a different click"
   ]
  },
  {
   "cell_type": "code",
   "execution_count": 136,
   "id": "ahead-arena",
   "metadata": {},
   "outputs": [],
   "source": [
    "# Buliding a new df which contains only users,days_before_staying and impressions\n",
    "df2 = pd.DataFrame(columns=[])\n",
    "a=[]\n",
    "b=[]\n",
    "c=[]\n",
    "d=[]\n",
    "\n",
    "for i in range(0,len(df)):\n",
    "    for y in range(0,len(df['impressions'][i])):\n",
    "        a.append(df['user_id'][i])\n",
    "        b.append(df['search_timestamp'][i])\n",
    "        c.append(df['days_before_staying'][i])\n",
    "        d.append(df['impressions'][i][y])\n",
    "        \n",
    "df2['user_id'] = a\n",
    "df2['search_timestamp'] = b\n",
    "df2['days_before_staying'] = c\n",
    "df2['impressions'] = d"
   ]
  },
  {
   "cell_type": "code",
   "execution_count": 137,
   "id": "excited-holly",
   "metadata": {},
   "outputs": [],
   "source": [
    "# Splitting the information inside impressions\n",
    "\n",
    "def collapse(x):\n",
    "    return x.split(',')"
   ]
  },
  {
   "cell_type": "code",
   "execution_count": 138,
   "id": "metallic-possible",
   "metadata": {},
   "outputs": [],
   "source": [
    "\n",
    "df2['impressions'] = df2['impressions'].apply(collapse)"
   ]
  },
  {
   "cell_type": "code",
   "execution_count": 139,
   "id": "prostate-merchandise",
   "metadata": {},
   "outputs": [],
   "source": [
    "# Creating new columns\n",
    "names = ['rank','prop_id','is_travel_ad','review_rating','review_count',\n",
    "         'star_rating','is_free_cancellation','is_drr','price_bucket',\n",
    "        'num_clicks','is_trans']\n",
    "for i in range(0,len(names)):\n",
    "    \n",
    "    df2[names[i]] = df2['impressions'].apply(lambda x: x[i])"
   ]
  },
  {
   "cell_type": "code",
   "execution_count": 140,
   "id": "marked-mathematics",
   "metadata": {},
   "outputs": [
    {
     "data": {
      "text/plain": [
       "user_id                  object\n",
       "search_timestamp         object\n",
       "days_before_staying     float64\n",
       "impressions              object\n",
       "rank                     object\n",
       "prop_id                  object\n",
       "is_travel_ad             object\n",
       "review_rating            object\n",
       "review_count             object\n",
       "star_rating              object\n",
       "is_free_cancellation     object\n",
       "is_drr                   object\n",
       "price_bucket             object\n",
       "num_clicks               object\n",
       "is_trans                 object\n",
       "dtype: object"
      ]
     },
     "execution_count": 140,
     "metadata": {},
     "output_type": "execute_result"
    }
   ],
   "source": [
    "# Types of columns\n",
    "df2.dtypes"
   ]
  },
  {
   "cell_type": "code",
   "execution_count": 141,
   "id": "monthly-leone",
   "metadata": {},
   "outputs": [],
   "source": [
    "# Replacing texts writting null with actual None\n",
    "df2 = df2.replace('null', None)"
   ]
  },
  {
   "cell_type": "code",
   "execution_count": 142,
   "id": "small-heather",
   "metadata": {},
   "outputs": [
    {
     "data": {
      "text/plain": [
       "user_id                    0\n",
       "search_timestamp           0\n",
       "days_before_staying     2873\n",
       "impressions                0\n",
       "rank                       0\n",
       "prop_id                    0\n",
       "is_travel_ad               0\n",
       "review_rating              0\n",
       "review_count               0\n",
       "star_rating                0\n",
       "is_free_cancellation       0\n",
       "is_drr                     0\n",
       "price_bucket               0\n",
       "num_clicks                 0\n",
       "is_trans                   0\n",
       "dtype: int64"
      ]
     },
     "execution_count": 142,
     "metadata": {},
     "output_type": "execute_result"
    }
   ],
   "source": [
    "df2.isna().sum()"
   ]
  },
  {
   "cell_type": "code",
   "execution_count": 143,
   "id": "identical-school",
   "metadata": {},
   "outputs": [],
   "source": [
    "# Changing types of columns\n",
    "\n",
    "df2['rank']=df2['rank'].astype(float)\n",
    "\n",
    "df2['is_travel_ad']=df2['is_travel_ad'].astype(float)\n",
    "df2['review_rating']=df2['review_rating'].astype(float)\n",
    "df2['review_count']=df2['review_count'].astype(float)\n",
    "df2['star_rating']=df2['star_rating'].astype(float)\n",
    "df2['is_free_cancellation']=df2['is_free_cancellation'].astype(float)\n",
    "df2['is_drr']=df2['is_drr'].astype(float)\n",
    "df2['num_clicks']=df2['num_clicks'].astype(int)\n",
    "df2['is_trans']=df2['is_trans'].astype(int)\n",
    "# I do not care about the quantity of clicks on a hotel\n",
    "# When we have clicks I will assume that the user clicked it\n",
    "df2['num_clicks'] = df2['num_clicks'].apply(lambda x: x>0).astype(int)"
   ]
  },
  {
   "cell_type": "code",
   "execution_count": 144,
   "id": "interested-burlington",
   "metadata": {},
   "outputs": [],
   "source": [
    "df2['search_timestamp'] =pd.to_datetime(df2['search_timestamp'])"
   ]
  },
  {
   "cell_type": "code",
   "execution_count": 145,
   "id": "direct-mission",
   "metadata": {},
   "outputs": [],
   "source": [
    "df2 = df2.sort_values(by=['user_id', 'search_timestamp'])"
   ]
  },
  {
   "cell_type": "code",
   "execution_count": 146,
   "id": "widespread-vegetable",
   "metadata": {},
   "outputs": [],
   "source": [
    "df2 = df2.reset_index()\n",
    "df2.drop('index', inplace=True, axis=1)"
   ]
  },
  {
   "cell_type": "code",
   "execution_count": 147,
   "id": "focal-bikini",
   "metadata": {},
   "outputs": [],
   "source": [
    "df2['price_bucket']=df2['price_bucket'].astype(int)"
   ]
  },
  {
   "cell_type": "markdown",
   "id": "peripheral-weather",
   "metadata": {},
   "source": [
    "#### Building dfs with only transactions and only not transactions\n",
    "#### I am aiming to isolate the users who booked AND clicked"
   ]
  },
  {
   "cell_type": "code",
   "execution_count": 148,
   "id": "expected-herald",
   "metadata": {},
   "outputs": [],
   "source": [
    "# Building dfs with only transactions and only not transactions\n",
    "# I am aiming to isolate the users who booked AND clicked\n",
    "users1 = df2[df2['is_trans']==1]['user_id']\n",
    "users0 = df2[df2['is_trans']==0]['user_id']"
   ]
  },
  {
   "cell_type": "code",
   "execution_count": 149,
   "id": "waiting-approval",
   "metadata": {},
   "outputs": [],
   "source": [
    "df3 = df2.copy()"
   ]
  },
  {
   "cell_type": "code",
   "execution_count": 150,
   "id": "major-surrey",
   "metadata": {},
   "outputs": [],
   "source": [
    "df3.drop(df3.index, inplace=True)"
   ]
  },
  {
   "cell_type": "code",
   "execution_count": 151,
   "id": "eight-intellectual",
   "metadata": {},
   "outputs": [],
   "source": [
    "for i in users1.unique():\n",
    "    if i in users0.unique():\n",
    "        df3 = df3.append(df2[df2['user_id'] ==i])"
   ]
  },
  {
   "cell_type": "code",
   "execution_count": 152,
   "id": "bigger-arizona",
   "metadata": {},
   "outputs": [],
   "source": [
    "k = df3.groupby(['user_id','is_trans']).mean()"
   ]
  },
  {
   "cell_type": "markdown",
   "id": "adaptive-senior",
   "metadata": {},
   "source": [
    "#### k dataset is a groupby of df3 in order to see the differences of hotels of each user when booking them or not"
   ]
  },
  {
   "cell_type": "code",
   "execution_count": 153,
   "id": "according-namibia",
   "metadata": {},
   "outputs": [
    {
     "data": {
      "text/html": [
       "<div>\n",
       "<style scoped>\n",
       "    .dataframe tbody tr th:only-of-type {\n",
       "        vertical-align: middle;\n",
       "    }\n",
       "\n",
       "    .dataframe tbody tr th {\n",
       "        vertical-align: top;\n",
       "    }\n",
       "\n",
       "    .dataframe thead th {\n",
       "        text-align: right;\n",
       "    }\n",
       "</style>\n",
       "<table border=\"1\" class=\"dataframe\">\n",
       "  <thead>\n",
       "    <tr style=\"text-align: right;\">\n",
       "      <th></th>\n",
       "      <th></th>\n",
       "      <th>days_before_staying</th>\n",
       "      <th>rank</th>\n",
       "      <th>is_travel_ad</th>\n",
       "      <th>review_rating</th>\n",
       "      <th>review_count</th>\n",
       "      <th>star_rating</th>\n",
       "      <th>is_free_cancellation</th>\n",
       "      <th>is_drr</th>\n",
       "      <th>price_bucket</th>\n",
       "      <th>num_clicks</th>\n",
       "    </tr>\n",
       "    <tr>\n",
       "      <th>user_id</th>\n",
       "      <th>is_trans</th>\n",
       "      <th></th>\n",
       "      <th></th>\n",
       "      <th></th>\n",
       "      <th></th>\n",
       "      <th></th>\n",
       "      <th></th>\n",
       "      <th></th>\n",
       "      <th></th>\n",
       "      <th></th>\n",
       "      <th></th>\n",
       "    </tr>\n",
       "  </thead>\n",
       "  <tbody>\n",
       "    <tr>\n",
       "      <th rowspan=\"2\" valign=\"top\">0013d44c284290287de2d9088207a2eb</th>\n",
       "      <th>0</th>\n",
       "      <td>2.000000</td>\n",
       "      <td>3.666667</td>\n",
       "      <td>0.333333</td>\n",
       "      <td>4.666667</td>\n",
       "      <td>483.333333</td>\n",
       "      <td>4.333333</td>\n",
       "      <td>1.000000</td>\n",
       "      <td>0.000000</td>\n",
       "      <td>5.000000</td>\n",
       "      <td>1.00</td>\n",
       "    </tr>\n",
       "    <tr>\n",
       "      <th>1</th>\n",
       "      <td>1.333333</td>\n",
       "      <td>3.000000</td>\n",
       "      <td>0.333333</td>\n",
       "      <td>5.000000</td>\n",
       "      <td>58.333333</td>\n",
       "      <td>4.000000</td>\n",
       "      <td>0.666667</td>\n",
       "      <td>0.000000</td>\n",
       "      <td>4.666667</td>\n",
       "      <td>1.00</td>\n",
       "    </tr>\n",
       "    <tr>\n",
       "      <th rowspan=\"2\" valign=\"top\">0021ad1604dd8da02ab70785a7ef1eed</th>\n",
       "      <th>0</th>\n",
       "      <td>28.428571</td>\n",
       "      <td>12.000000</td>\n",
       "      <td>0.000000</td>\n",
       "      <td>3.571429</td>\n",
       "      <td>1046.428571</td>\n",
       "      <td>3.000000</td>\n",
       "      <td>0.428571</td>\n",
       "      <td>0.714286</td>\n",
       "      <td>2.142857</td>\n",
       "      <td>1.00</td>\n",
       "    </tr>\n",
       "    <tr>\n",
       "      <th>1</th>\n",
       "      <td>1.333333</td>\n",
       "      <td>6.333333</td>\n",
       "      <td>0.333333</td>\n",
       "      <td>3.666667</td>\n",
       "      <td>558.333333</td>\n",
       "      <td>3.666667</td>\n",
       "      <td>0.666667</td>\n",
       "      <td>0.666667</td>\n",
       "      <td>1.666667</td>\n",
       "      <td>1.00</td>\n",
       "    </tr>\n",
       "    <tr>\n",
       "      <th>0024442a9377078bd72a75494a0a4250</th>\n",
       "      <th>0</th>\n",
       "      <td>22.714286</td>\n",
       "      <td>8.714286</td>\n",
       "      <td>0.071429</td>\n",
       "      <td>4.142857</td>\n",
       "      <td>1155.357143</td>\n",
       "      <td>3.142857</td>\n",
       "      <td>1.000000</td>\n",
       "      <td>0.785714</td>\n",
       "      <td>2.571429</td>\n",
       "      <td>1.00</td>\n",
       "    </tr>\n",
       "    <tr>\n",
       "      <th>...</th>\n",
       "      <th>...</th>\n",
       "      <td>...</td>\n",
       "      <td>...</td>\n",
       "      <td>...</td>\n",
       "      <td>...</td>\n",
       "      <td>...</td>\n",
       "      <td>...</td>\n",
       "      <td>...</td>\n",
       "      <td>...</td>\n",
       "      <td>...</td>\n",
       "      <td>...</td>\n",
       "    </tr>\n",
       "    <tr>\n",
       "      <th>ffef9648bb989739f9fd9ba39811948d</th>\n",
       "      <th>1</th>\n",
       "      <td>4.000000</td>\n",
       "      <td>11.000000</td>\n",
       "      <td>0.000000</td>\n",
       "      <td>4.000000</td>\n",
       "      <td>600.000000</td>\n",
       "      <td>3.000000</td>\n",
       "      <td>1.000000</td>\n",
       "      <td>1.000000</td>\n",
       "      <td>3.000000</td>\n",
       "      <td>1.00</td>\n",
       "    </tr>\n",
       "    <tr>\n",
       "      <th rowspan=\"2\" valign=\"top\">fff2348d6dfdb203d0f4bc8bbf111eca</th>\n",
       "      <th>0</th>\n",
       "      <td>0.000000</td>\n",
       "      <td>25.000000</td>\n",
       "      <td>0.000000</td>\n",
       "      <td>4.000000</td>\n",
       "      <td>1012.500000</td>\n",
       "      <td>3.000000</td>\n",
       "      <td>0.000000</td>\n",
       "      <td>0.000000</td>\n",
       "      <td>4.500000</td>\n",
       "      <td>1.00</td>\n",
       "    </tr>\n",
       "    <tr>\n",
       "      <th>1</th>\n",
       "      <td>1.500000</td>\n",
       "      <td>42.500000</td>\n",
       "      <td>0.000000</td>\n",
       "      <td>4.000000</td>\n",
       "      <td>687.500000</td>\n",
       "      <td>3.000000</td>\n",
       "      <td>1.000000</td>\n",
       "      <td>0.500000</td>\n",
       "      <td>3.000000</td>\n",
       "      <td>1.00</td>\n",
       "    </tr>\n",
       "    <tr>\n",
       "      <th rowspan=\"2\" valign=\"top\">fff4c17873151f0596c0ccab4e7c53ca</th>\n",
       "      <th>0</th>\n",
       "      <td>45.166667</td>\n",
       "      <td>4.666667</td>\n",
       "      <td>0.000000</td>\n",
       "      <td>3.666667</td>\n",
       "      <td>445.833333</td>\n",
       "      <td>2.500000</td>\n",
       "      <td>0.333333</td>\n",
       "      <td>0.000000</td>\n",
       "      <td>2.000000</td>\n",
       "      <td>1.00</td>\n",
       "    </tr>\n",
       "    <tr>\n",
       "      <th>1</th>\n",
       "      <td>46.000000</td>\n",
       "      <td>50.500000</td>\n",
       "      <td>0.000000</td>\n",
       "      <td>3.490000</td>\n",
       "      <td>118.250000</td>\n",
       "      <td>3.400000</td>\n",
       "      <td>0.130000</td>\n",
       "      <td>0.140000</td>\n",
       "      <td>2.970000</td>\n",
       "      <td>0.01</td>\n",
       "    </tr>\n",
       "  </tbody>\n",
       "</table>\n",
       "<p>7256 rows × 10 columns</p>\n",
       "</div>"
      ],
      "text/plain": [
       "                                           days_before_staying       rank  \\\n",
       "user_id                          is_trans                                   \n",
       "0013d44c284290287de2d9088207a2eb 0                    2.000000   3.666667   \n",
       "                                 1                    1.333333   3.000000   \n",
       "0021ad1604dd8da02ab70785a7ef1eed 0                   28.428571  12.000000   \n",
       "                                 1                    1.333333   6.333333   \n",
       "0024442a9377078bd72a75494a0a4250 0                   22.714286   8.714286   \n",
       "...                                                        ...        ...   \n",
       "ffef9648bb989739f9fd9ba39811948d 1                    4.000000  11.000000   \n",
       "fff2348d6dfdb203d0f4bc8bbf111eca 0                    0.000000  25.000000   \n",
       "                                 1                    1.500000  42.500000   \n",
       "fff4c17873151f0596c0ccab4e7c53ca 0                   45.166667   4.666667   \n",
       "                                 1                   46.000000  50.500000   \n",
       "\n",
       "                                           is_travel_ad  review_rating  \\\n",
       "user_id                          is_trans                                \n",
       "0013d44c284290287de2d9088207a2eb 0             0.333333       4.666667   \n",
       "                                 1             0.333333       5.000000   \n",
       "0021ad1604dd8da02ab70785a7ef1eed 0             0.000000       3.571429   \n",
       "                                 1             0.333333       3.666667   \n",
       "0024442a9377078bd72a75494a0a4250 0             0.071429       4.142857   \n",
       "...                                                 ...            ...   \n",
       "ffef9648bb989739f9fd9ba39811948d 1             0.000000       4.000000   \n",
       "fff2348d6dfdb203d0f4bc8bbf111eca 0             0.000000       4.000000   \n",
       "                                 1             0.000000       4.000000   \n",
       "fff4c17873151f0596c0ccab4e7c53ca 0             0.000000       3.666667   \n",
       "                                 1             0.000000       3.490000   \n",
       "\n",
       "                                           review_count  star_rating  \\\n",
       "user_id                          is_trans                              \n",
       "0013d44c284290287de2d9088207a2eb 0           483.333333     4.333333   \n",
       "                                 1            58.333333     4.000000   \n",
       "0021ad1604dd8da02ab70785a7ef1eed 0          1046.428571     3.000000   \n",
       "                                 1           558.333333     3.666667   \n",
       "0024442a9377078bd72a75494a0a4250 0          1155.357143     3.142857   \n",
       "...                                                 ...          ...   \n",
       "ffef9648bb989739f9fd9ba39811948d 1           600.000000     3.000000   \n",
       "fff2348d6dfdb203d0f4bc8bbf111eca 0          1012.500000     3.000000   \n",
       "                                 1           687.500000     3.000000   \n",
       "fff4c17873151f0596c0ccab4e7c53ca 0           445.833333     2.500000   \n",
       "                                 1           118.250000     3.400000   \n",
       "\n",
       "                                           is_free_cancellation    is_drr  \\\n",
       "user_id                          is_trans                                   \n",
       "0013d44c284290287de2d9088207a2eb 0                     1.000000  0.000000   \n",
       "                                 1                     0.666667  0.000000   \n",
       "0021ad1604dd8da02ab70785a7ef1eed 0                     0.428571  0.714286   \n",
       "                                 1                     0.666667  0.666667   \n",
       "0024442a9377078bd72a75494a0a4250 0                     1.000000  0.785714   \n",
       "...                                                         ...       ...   \n",
       "ffef9648bb989739f9fd9ba39811948d 1                     1.000000  1.000000   \n",
       "fff2348d6dfdb203d0f4bc8bbf111eca 0                     0.000000  0.000000   \n",
       "                                 1                     1.000000  0.500000   \n",
       "fff4c17873151f0596c0ccab4e7c53ca 0                     0.333333  0.000000   \n",
       "                                 1                     0.130000  0.140000   \n",
       "\n",
       "                                           price_bucket  num_clicks  \n",
       "user_id                          is_trans                            \n",
       "0013d44c284290287de2d9088207a2eb 0             5.000000        1.00  \n",
       "                                 1             4.666667        1.00  \n",
       "0021ad1604dd8da02ab70785a7ef1eed 0             2.142857        1.00  \n",
       "                                 1             1.666667        1.00  \n",
       "0024442a9377078bd72a75494a0a4250 0             2.571429        1.00  \n",
       "...                                                 ...         ...  \n",
       "ffef9648bb989739f9fd9ba39811948d 1             3.000000        1.00  \n",
       "fff2348d6dfdb203d0f4bc8bbf111eca 0             4.500000        1.00  \n",
       "                                 1             3.000000        1.00  \n",
       "fff4c17873151f0596c0ccab4e7c53ca 0             2.000000        1.00  \n",
       "                                 1             2.970000        0.01  \n",
       "\n",
       "[7256 rows x 10 columns]"
      ]
     },
     "execution_count": 153,
     "metadata": {},
     "output_type": "execute_result"
    }
   ],
   "source": [
    "k"
   ]
  },
  {
   "cell_type": "markdown",
   "id": "imperial-september",
   "metadata": {},
   "source": [
    "### Distributions of bucket lists for clicks that became a transaction and clicks that didn't"
   ]
  },
  {
   "cell_type": "code",
   "execution_count": 154,
   "id": "united-termination",
   "metadata": {
    "scrolled": false
   },
   "outputs": [
    {
     "data": {
      "text/plain": [
       "<seaborn.axisgrid.FacetGrid at 0x18625421970>"
      ]
     },
     "execution_count": 154,
     "metadata": {},
     "output_type": "execute_result"
    },
    {
     "data": {
      "image/png": "[encoded data removed]",
      "text/plain": [
       "<Figure size 406.875x360 with 1 Axes>"
      ]
     },
     "metadata": {
      "needs_background": "light"
     },
     "output_type": "display_data"
    }
   ],
   "source": [
    "sns.displot(x = 'price_bucket',hue = 'is_trans',data = k, kind=\"kde\")\n",
    "# Obviously the visitors are clicking on average on more expensive \n",
    "# hotels than the ones they are booking"
   ]
  },
  {
   "cell_type": "markdown",
   "id": "selective-madness",
   "metadata": {},
   "source": [
    "#### In order to understand better what is going on based on price_buckets we will create\n",
    "#### a new column which will compare each user's searches and purchases"
   ]
  },
  {
   "cell_type": "code",
   "execution_count": 155,
   "id": "bibliographic-chemical",
   "metadata": {},
   "outputs": [],
   "source": [
    "bucket_analogy = []\n",
    "for i in range(0,len(k)-1,2):\n",
    "    for y in range(0,2):\n",
    "        bucket_analogy.append(k['price_bucket'][i]/k['price_bucket'][i+1])"
   ]
  },
  {
   "cell_type": "code",
   "execution_count": 156,
   "id": "crazy-pillow",
   "metadata": {},
   "outputs": [
    {
     "data": {
      "text/plain": [
       "7256"
      ]
     },
     "execution_count": 156,
     "metadata": {},
     "output_type": "execute_result"
    }
   ],
   "source": [
    "len(bucket_analogy)"
   ]
  },
  {
   "cell_type": "code",
   "execution_count": 157,
   "id": "fabulous-rachel",
   "metadata": {},
   "outputs": [],
   "source": [
    "k['bucket_analogy'] = bucket_analogy"
   ]
  },
  {
   "cell_type": "code",
   "execution_count": 159,
   "id": "laden-county",
   "metadata": {},
   "outputs": [],
   "source": [
    "k = k.reset_index()"
   ]
  },
  {
   "cell_type": "markdown",
   "id": "entitled-retirement",
   "metadata": {},
   "source": [
    "#### I am going to round the buckets averages in order to have meaningful plots"
   ]
  },
  {
   "cell_type": "code",
   "execution_count": 160,
   "id": "cubic-anxiety",
   "metadata": {},
   "outputs": [],
   "source": [
    "k['price_bucket'] = k['price_bucket'].apply(round)"
   ]
  },
  {
   "cell_type": "code",
   "execution_count": 161,
   "id": "handy-companion",
   "metadata": {},
   "outputs": [
    {
     "data": {
      "text/plain": [
       "2    2043\n",
       "3    2019\n",
       "1    1505\n",
       "4    1194\n",
       "5     495\n",
       "Name: price_bucket, dtype: int64"
      ]
     },
     "execution_count": 161,
     "metadata": {},
     "output_type": "execute_result"
    }
   ],
   "source": [
    "k['price_bucket'].value_counts()"
   ]
  },
  {
   "cell_type": "code",
   "execution_count": 162,
   "id": "isolated-yukon",
   "metadata": {},
   "outputs": [
    {
     "data": {
      "text/plain": [
       "count    7256.000000\n",
       "mean        1.286077\n",
       "std         0.804634\n",
       "min         0.200000\n",
       "25%         0.812500\n",
       "50%         1.000000\n",
       "75%         1.500000\n",
       "max         5.000000\n",
       "Name: bucket_analogy, dtype: float64"
      ]
     },
     "execution_count": 162,
     "metadata": {},
     "output_type": "execute_result"
    }
   ],
   "source": [
    "k['bucket_analogy'].describe()"
   ]
  },
  {
   "cell_type": "code",
   "execution_count": 163,
   "id": "variable-escape",
   "metadata": {},
   "outputs": [
    {
     "name": "stderr",
     "output_type": "stream",
     "text": [
      "<ipython-input-163-4bcbb4340f98>:1: UserWarning: Boolean Series key will be reindexed to match DataFrame index.\n",
      "  sns.displot(x ='bucket_analogy',data = k[k['is_trans']==0][k['price_bucket']==1]);\n"
     ]
    },
    {
     "data": {
      "image/png": "[encoded data removed]",
      "text/plain": [
       "<Figure size 360x360 with 1 Axes>"
      ]
     },
     "metadata": {
      "needs_background": "light"
     },
     "output_type": "display_data"
    }
   ],
   "source": [
    "sns.displot(x ='bucket_analogy',data = k[k['is_trans']==0][k['price_bucket']==1]);\n"
   ]
  },
  {
   "cell_type": "code",
   "execution_count": 164,
   "id": "civilian-polyester",
   "metadata": {},
   "outputs": [
    {
     "name": "stderr",
     "output_type": "stream",
     "text": [
      "<ipython-input-164-2448cf26da78>:1: UserWarning: Boolean Series key will be reindexed to match DataFrame index.\n",
      "  sns.displot(x ='bucket_analogy',data = k[k['is_trans']==0][k['price_bucket']==2]);\n"
     ]
    },
    {
     "data": {
      "image/png": "[encoded data removed]",
      "text/plain": [
       "<Figure size 360x360 with 1 Axes>"
      ]
     },
     "metadata": {
      "needs_background": "light"
     },
     "output_type": "display_data"
    }
   ],
   "source": [
    "sns.displot(x ='bucket_analogy',data = k[k['is_trans']==0][k['price_bucket']==2]);"
   ]
  },
  {
   "cell_type": "code",
   "execution_count": 165,
   "id": "wireless-authentication",
   "metadata": {},
   "outputs": [
    {
     "name": "stderr",
     "output_type": "stream",
     "text": [
      "<ipython-input-165-c5150226af14>:1: UserWarning: Boolean Series key will be reindexed to match DataFrame index.\n",
      "  sns.displot(x ='bucket_analogy',data = k[k['is_trans']==0][k['price_bucket']==3]);\n"
     ]
    },
    {
     "data": {
      "image/png": "[encoded data removed]",
      "text/plain": [
       "<Figure size 360x360 with 1 Axes>"
      ]
     },
     "metadata": {
      "needs_background": "light"
     },
     "output_type": "display_data"
    }
   ],
   "source": [
    "sns.displot(x ='bucket_analogy',data = k[k['is_trans']==0][k['price_bucket']==3]);"
   ]
  },
  {
   "cell_type": "code",
   "execution_count": 166,
   "id": "intended-consent",
   "metadata": {},
   "outputs": [
    {
     "name": "stderr",
     "output_type": "stream",
     "text": [
      "<ipython-input-166-42c8c0f81768>:1: UserWarning: Boolean Series key will be reindexed to match DataFrame index.\n",
      "  sns.displot(x ='bucket_analogy',data = k[k['is_trans']==0][k['price_bucket']==4]);\n"
     ]
    },
    {
     "data": {
      "image/png": "[encoded data removed]",
      "text/plain": [
       "<Figure size 360x360 with 1 Axes>"
      ]
     },
     "metadata": {
      "needs_background": "light"
     },
     "output_type": "display_data"
    }
   ],
   "source": [
    "sns.displot(x ='bucket_analogy',data = k[k['is_trans']==0][k['price_bucket']==4]);"
   ]
  },
  {
   "cell_type": "code",
   "execution_count": 167,
   "id": "identical-moisture",
   "metadata": {},
   "outputs": [
    {
     "name": "stderr",
     "output_type": "stream",
     "text": [
      "<ipython-input-167-cebb4da04744>:1: UserWarning: Boolean Series key will be reindexed to match DataFrame index.\n",
      "  sns.displot(x ='bucket_analogy',data = k[k['is_trans']==0][k['price_bucket']==5]);\n"
     ]
    },
    {
     "data": {
      "image/png": "[encoded data removed]",
      "text/plain": [
       "<Figure size 360x360 with 1 Axes>"
      ]
     },
     "metadata": {
      "needs_background": "light"
     },
     "output_type": "display_data"
    }
   ],
   "source": [
    "sns.displot(x ='bucket_analogy',data = k[k['is_trans']==0][k['price_bucket']==5]);"
   ]
  },
  {
   "cell_type": "markdown",
   "id": "charitable-roots",
   "metadata": {},
   "source": [
    "## The analogy seems a bit tricky. Let's see if their difference would make more sense."
   ]
  },
  {
   "cell_type": "code",
   "execution_count": 168,
   "id": "inside-heading",
   "metadata": {},
   "outputs": [],
   "source": [
    "bucket_difference = []\n",
    "for i in range(0,len(k)-1,2):\n",
    "    for y in range(0,2):\n",
    "        bucket_difference.append(k['price_bucket'][i]-k['price_bucket'][i+1])"
   ]
  },
  {
   "cell_type": "code",
   "execution_count": 169,
   "id": "restricted-thinking",
   "metadata": {},
   "outputs": [
    {
     "data": {
      "text/plain": [
       "7256"
      ]
     },
     "execution_count": 169,
     "metadata": {},
     "output_type": "execute_result"
    }
   ],
   "source": [
    "len(bucket_difference)"
   ]
  },
  {
   "cell_type": "code",
   "execution_count": 170,
   "id": "sonic-evidence",
   "metadata": {},
   "outputs": [],
   "source": [
    "k['bucket_difference'] = bucket_difference"
   ]
  },
  {
   "cell_type": "code",
   "execution_count": 178,
   "id": "progressive-coffee",
   "metadata": {},
   "outputs": [
    {
     "name": "stderr",
     "output_type": "stream",
     "text": [
      "<ipython-input-178-32da23c17382>:1: UserWarning: Boolean Series key will be reindexed to match DataFrame index.\n",
      "  sns.displot(x ='bucket_difference',data = k[k['is_trans']==0][k['price_bucket']==1],stat='probability');\n"
     ]
    },
    {
     "data": {
      "image/png": "[encoded data removed]",
      "text/plain": [
       "<Figure size 360x360 with 1 Axes>"
      ]
     },
     "metadata": {
      "needs_background": "light"
     },
     "output_type": "display_data"
    }
   ],
   "source": [
    "sns.displot(x ='bucket_difference',data = k[k['is_trans']==0][k['price_bucket']==1],stat='probability');"
   ]
  },
  {
   "cell_type": "code",
   "execution_count": 179,
   "id": "brave-boating",
   "metadata": {},
   "outputs": [
    {
     "name": "stderr",
     "output_type": "stream",
     "text": [
      "<ipython-input-179-c76f8f8f0d2b>:1: UserWarning: Boolean Series key will be reindexed to match DataFrame index.\n",
      "  sns.displot(x ='bucket_difference',data = k[k['is_trans']==0][k['price_bucket']==2],stat='probability');\n"
     ]
    },
    {
     "data": {
      "image/png": "[encoded data removed]",
      "text/plain": [
       "<Figure size 360x360 with 1 Axes>"
      ]
     },
     "metadata": {
      "needs_background": "light"
     },
     "output_type": "display_data"
    }
   ],
   "source": [
    "sns.displot(x ='bucket_difference',data = k[k['is_trans']==0][k['price_bucket']==2],stat='probability');"
   ]
  },
  {
   "cell_type": "code",
   "execution_count": 180,
   "id": "educational-plaza",
   "metadata": {},
   "outputs": [
    {
     "ename": "SyntaxError",
     "evalue": "invalid syntax (<ipython-input-180-3cd4e45b70d7>, line 1)",
     "output_type": "error",
     "traceback": [
      "\u001b[1;36m  File \u001b[1;32m\"<ipython-input-180-3cd4e45b70d7>\"\u001b[1;36m, line \u001b[1;32m1\u001b[0m\n\u001b[1;33m    sns.displot(x ='bucket_difference',data = k[k['is_trans']==0][k['price_bucket']==3,stat='probability']);\u001b[0m\n\u001b[1;37m                                                                                           ^\u001b[0m\n\u001b[1;31mSyntaxError\u001b[0m\u001b[1;31m:\u001b[0m invalid syntax\n"
     ]
    }
   ],
   "source": [
    "sns.displot(x ='bucket_difference',data = k[k['is_trans']==0][k['price_bucket']==3,stat='probability']);"
   ]
  },
  {
   "cell_type": "code",
   "execution_count": 181,
   "id": "constant-effects",
   "metadata": {},
   "outputs": [
    {
     "name": "stderr",
     "output_type": "stream",
     "text": [
      "<ipython-input-181-3c43e1d55cad>:1: UserWarning: Boolean Series key will be reindexed to match DataFrame index.\n",
      "  sns.displot(x ='bucket_difference',data = k[k['is_trans']==0][k['price_bucket']==4],stat='probability');\n"
     ]
    },
    {
     "data": {
      "image/png": "[encoded data removed]",
      "text/plain": [
       "<Figure size 360x360 with 1 Axes>"
      ]
     },
     "metadata": {
      "needs_background": "light"
     },
     "output_type": "display_data"
    }
   ],
   "source": [
    "sns.displot(x ='bucket_difference',data = k[k['is_trans']==0][k['price_bucket']==4],stat='probability');"
   ]
  },
  {
   "cell_type": "code",
   "execution_count": 182,
   "id": "measured-tsunami",
   "metadata": {},
   "outputs": [
    {
     "name": "stderr",
     "output_type": "stream",
     "text": [
      "<ipython-input-182-24120e00e2ad>:1: UserWarning: Boolean Series key will be reindexed to match DataFrame index.\n",
      "  sns.displot(x ='bucket_difference',data = k[k['is_trans']==0][k['price_bucket']==5],stat='probability');\n"
     ]
    },
    {
     "data": {
      "image/png": "[encoded data removed]",
      "text/plain": [
       "<Figure size 360x360 with 1 Axes>"
      ]
     },
     "metadata": {
      "needs_background": "light"
     },
     "output_type": "display_data"
    }
   ],
   "source": [
    "sns.displot(x ='bucket_difference',data = k[k['is_trans']==0][k['price_bucket']==5],stat='probability');"
   ]
  },
  {
   "cell_type": "markdown",
   "id": "improving-nursing",
   "metadata": {},
   "source": [
    "The less the starting price bucket, the more the commitment of the users on their searches. We see that \n",
    "as the price_bucket is getting higher, the distribution is being even more spreaded."
   ]
  },
  {
   "cell_type": "code",
   "execution_count": null,
   "id": "seventh-balance",
   "metadata": {},
   "outputs": [],
   "source": []
  }
 ],
 "metadata": {
  "kernelspec": {
   "display_name": "Python 3",
   "language": "python",
   "name": "python3"
  },
  "language_info": {
   "codemirror_mode": {
    "name": "ipython",
    "version": 3
   },
   "file_extension": ".py",
   "mimetype": "text/x-python",
   "name": "python",
   "nbconvert_exporter": "python",
   "pygments_lexer": "ipython3",
   "version": "3.9.1"
  }
 },
 "nbformat": 4,
 "nbformat_minor": 5
}
