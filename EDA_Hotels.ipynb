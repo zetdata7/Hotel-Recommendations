{
 "cells": [
  {
   "cell_type": "markdown",
   "id": "large-colony",
   "metadata": {},
   "source": [
    "## IMPORTING LIBRARIES"
   ]
  },
  {
   "cell_type": "code",
   "execution_count": 1,
   "id": "ranging-responsibility",
   "metadata": {},
   "outputs": [],
   "source": [
    "import pandas as pd\n",
    "import numpy as np\n",
    "import seaborn as sns\n",
    "import matplotlib.pyplot as plt"
   ]
  },
  {
   "cell_type": "code",
   "execution_count": 2,
   "id": "latter-sponsorship",
   "metadata": {},
   "outputs": [],
   "source": [
    "#plt.rcParams['figure.figsize'] = [12, 8]\n",
    "#plt.rcParams['figure.dpi'] = 100 "
   ]
  },
  {
   "cell_type": "markdown",
   "id": "saved-clear",
   "metadata": {},
   "source": [
    "IMPORTING A SAMPLE OF THE DATA"
   ]
  },
  {
   "cell_type": "code",
   "execution_count": 3,
   "id": "historical-turkish",
   "metadata": {},
   "outputs": [],
   "source": [
    "\n",
    "main = pd.read_csv('main.tsv', sep='\\t', header=0,nrows = 100000)"
   ]
  },
  {
   "cell_type": "code",
   "execution_count": 4,
   "id": "initial-chocolate",
   "metadata": {},
   "outputs": [
    {
     "data": {
      "text/html": [
       "<div>\n",
       "<style scoped>\n",
       "    .dataframe tbody tr th:only-of-type {\n",
       "        vertical-align: middle;\n",
       "    }\n",
       "\n",
       "    .dataframe tbody tr th {\n",
       "        vertical-align: top;\n",
       "    }\n",
       "\n",
       "    .dataframe thead th {\n",
       "        text-align: right;\n",
       "    }\n",
       "</style>\n",
       "<table border=\"1\" class=\"dataframe\">\n",
       "  <thead>\n",
       "    <tr style=\"text-align: right;\">\n",
       "      <th></th>\n",
       "      <th>user_id</th>\n",
       "      <th>search_id</th>\n",
       "      <th>search_timestamp</th>\n",
       "      <th>point_of_sale</th>\n",
       "      <th>geo_location_country</th>\n",
       "      <th>is_mobile</th>\n",
       "      <th>destination_id</th>\n",
       "      <th>checkin_date</th>\n",
       "      <th>checkout_date</th>\n",
       "      <th>adult_count</th>\n",
       "      <th>child_count</th>\n",
       "      <th>infant_count</th>\n",
       "      <th>room_count</th>\n",
       "      <th>sort_type</th>\n",
       "      <th>applied_filters</th>\n",
       "      <th>impressions</th>\n",
       "    </tr>\n",
       "  </thead>\n",
       "  <tbody>\n",
       "    <tr>\n",
       "      <th>0</th>\n",
       "      <td>001bbff3030c95740d4c55bb72e823e9</td>\n",
       "      <td>541933a931216d270f53277c2de068d0</td>\n",
       "      <td>2021-07-02T19:38:00.000Z</td>\n",
       "      <td>2</td>\n",
       "      <td>1</td>\n",
       "      <td>0</td>\n",
       "      <td>898</td>\n",
       "      <td>2021-07-04</td>\n",
       "      <td>2021-07-05</td>\n",
       "      <td>2</td>\n",
       "      <td>0</td>\n",
       "      <td>0</td>\n",
       "      <td>1</td>\n",
       "      <td>RECOMMENDED</td>\n",
       "      <td>NaN</td>\n",
       "      <td>1,5695234,1,4.0,250.0,2.0,1,0,3,0,0|2,1734546,...</td>\n",
       "    </tr>\n",
       "    <tr>\n",
       "      <th>1</th>\n",
       "      <td>002ba2a7c74dbffc32e4568af230d49a</td>\n",
       "      <td>25b8ebecb15b8f3edb5eed36a1f699b4</td>\n",
       "      <td>2021-06-23T03:39:00.000Z</td>\n",
       "      <td>1</td>\n",
       "      <td>1</td>\n",
       "      <td>0</td>\n",
       "      <td>50</td>\n",
       "      <td>2021-09-10</td>\n",
       "      <td>2021-09-14</td>\n",
       "      <td>2</td>\n",
       "      <td>0</td>\n",
       "      <td>0</td>\n",
       "      <td>1</td>\n",
       "      <td>PRICE ASCENDING</td>\n",
       "      <td>NaN</td>\n",
       "      <td>1,5151135,0,null,null,null,1,1,1,0,0</td>\n",
       "    </tr>\n",
       "    <tr>\n",
       "      <th>2</th>\n",
       "      <td>00c5152ed6ef5b937e8320a260bde084</td>\n",
       "      <td>349c86ff1be41553878e01988ca209d1</td>\n",
       "      <td>2021-06-10T00:08:00.000Z</td>\n",
       "      <td>1</td>\n",
       "      <td>1</td>\n",
       "      <td>0</td>\n",
       "      <td>49</td>\n",
       "      <td>2021-07-07</td>\n",
       "      <td>2021-07-12</td>\n",
       "      <td>2</td>\n",
       "      <td>0</td>\n",
       "      <td>0</td>\n",
       "      <td>1</td>\n",
       "      <td>RECOMMENDED</td>\n",
       "      <td>NaN</td>\n",
       "      <td>1,1624072,0,4.0,1250.0,4.0,1,1,2,1,0|2,5170759...</td>\n",
       "    </tr>\n",
       "    <tr>\n",
       "      <th>3</th>\n",
       "      <td>00d5e2bca7962f67d5695e7e7b92feb8</td>\n",
       "      <td>d3b41f5d906b3f5e56bcafd4a7428634</td>\n",
       "      <td>2021-07-16T01:08:00.000Z</td>\n",
       "      <td>12</td>\n",
       "      <td>1</td>\n",
       "      <td>0</td>\n",
       "      <td>13</td>\n",
       "      <td>2021-08-25</td>\n",
       "      <td>2021-08-28</td>\n",
       "      <td>2</td>\n",
       "      <td>0</td>\n",
       "      <td>0</td>\n",
       "      <td>1</td>\n",
       "      <td>RECOMMENDED</td>\n",
       "      <td>NaN</td>\n",
       "      <td>1,2391667,1,4.0,1625.0,5.0,0,0,5,0,0|2,4930059...</td>\n",
       "    </tr>\n",
       "    <tr>\n",
       "      <th>4</th>\n",
       "      <td>013f92616fe583c4ba0c3919b69cf3d9</td>\n",
       "      <td>a359fd984e5ae5be64af5226dd1e9fe2</td>\n",
       "      <td>2021-07-07T20:49:00.000Z</td>\n",
       "      <td>1</td>\n",
       "      <td>1</td>\n",
       "      <td>0</td>\n",
       "      <td>206</td>\n",
       "      <td>2021-08-30</td>\n",
       "      <td>2021-09-04</td>\n",
       "      <td>1</td>\n",
       "      <td>0</td>\n",
       "      <td>0</td>\n",
       "      <td>1</td>\n",
       "      <td>RECOMMENDED</td>\n",
       "      <td>VIPONLY:FALSE</td>\n",
       "      <td>1,6714720,1,5.0,225.0,3.0,1,0,5,0,0|2,5593294,...</td>\n",
       "    </tr>\n",
       "  </tbody>\n",
       "</table>\n",
       "</div>"
      ],
      "text/plain": [
       "                            user_id                         search_id  \\\n",
       "0  001bbff3030c95740d4c55bb72e823e9  541933a931216d270f53277c2de068d0   \n",
       "1  002ba2a7c74dbffc32e4568af230d49a  25b8ebecb15b8f3edb5eed36a1f699b4   \n",
       "2  00c5152ed6ef5b937e8320a260bde084  349c86ff1be41553878e01988ca209d1   \n",
       "3  00d5e2bca7962f67d5695e7e7b92feb8  d3b41f5d906b3f5e56bcafd4a7428634   \n",
       "4  013f92616fe583c4ba0c3919b69cf3d9  a359fd984e5ae5be64af5226dd1e9fe2   \n",
       "\n",
       "           search_timestamp  point_of_sale  geo_location_country  is_mobile  \\\n",
       "0  2021-07-02T19:38:00.000Z              2                     1          0   \n",
       "1  2021-06-23T03:39:00.000Z              1                     1          0   \n",
       "2  2021-06-10T00:08:00.000Z              1                     1          0   \n",
       "3  2021-07-16T01:08:00.000Z             12                     1          0   \n",
       "4  2021-07-07T20:49:00.000Z              1                     1          0   \n",
       "\n",
       "   destination_id checkin_date checkout_date  adult_count  child_count  \\\n",
       "0             898   2021-07-04    2021-07-05            2            0   \n",
       "1              50   2021-09-10    2021-09-14            2            0   \n",
       "2              49   2021-07-07    2021-07-12            2            0   \n",
       "3              13   2021-08-25    2021-08-28            2            0   \n",
       "4             206   2021-08-30    2021-09-04            1            0   \n",
       "\n",
       "   infant_count  room_count        sort_type applied_filters  \\\n",
       "0             0           1      RECOMMENDED             NaN   \n",
       "1             0           1  PRICE ASCENDING             NaN   \n",
       "2             0           1      RECOMMENDED             NaN   \n",
       "3             0           1      RECOMMENDED             NaN   \n",
       "4             0           1      RECOMMENDED   VIPONLY:FALSE   \n",
       "\n",
       "                                         impressions  \n",
       "0  1,5695234,1,4.0,250.0,2.0,1,0,3,0,0|2,1734546,...  \n",
       "1               1,5151135,0,null,null,null,1,1,1,0,0  \n",
       "2  1,1624072,0,4.0,1250.0,4.0,1,1,2,1,0|2,5170759...  \n",
       "3  1,2391667,1,4.0,1625.0,5.0,0,0,5,0,0|2,4930059...  \n",
       "4  1,6714720,1,5.0,225.0,3.0,1,0,5,0,0|2,5593294,...  "
      ]
     },
     "execution_count": 4,
     "metadata": {},
     "output_type": "execute_result"
    }
   ],
   "source": [
    "# Illustration of the top 5 rows in order to see how our table looks like\n",
    "main.head()"
   ]
  },
  {
   "cell_type": "code",
   "execution_count": 5,
   "id": "correct-christian",
   "metadata": {},
   "outputs": [
    {
     "name": "stdout",
     "output_type": "stream",
     "text": [
      "Some users have visited the points of sales more than once\n",
      "Total unique users:  31209  and total data entries:  100000\n"
     ]
    }
   ],
   "source": [
    "if main['user_id'].nunique() == len(main):\n",
    "    print('All users have explored only once')\n",
    "else: print('Some users have visited the points of sales more than once')\n",
    "print('Total unique users: ',main['user_id'].nunique(),' and total data entries: ',len(main))"
   ]
  },
  {
   "cell_type": "markdown",
   "id": "suspected-spotlight",
   "metadata": {},
   "source": [
    "EXPLORATORY DATA ANALYSIS"
   ]
  },
  {
   "cell_type": "code",
   "execution_count": 6,
   "id": "laughing-astrology",
   "metadata": {},
   "outputs": [
    {
     "data": {
      "image/png": "[encoded data removed]",
      "text/plain": [
       "<Figure size 432x288 with 1 Axes>"
      ]
     },
     "metadata": {
      "needs_background": "light"
     },
     "output_type": "display_data"
    }
   ],
   "source": [
    "# Let's see how many searches were conducted via cellphone and how many not\n",
    "\n",
    "\n",
    "ax = sns.countplot(x=\"is_mobile\", data=main)"
   ]
  },
  {
   "cell_type": "code",
   "execution_count": 7,
   "id": "perfect-response",
   "metadata": {},
   "outputs": [
    {
     "data": {
      "text/plain": [
       "user_id                     0\n",
       "search_id                   0\n",
       "search_timestamp            0\n",
       "point_of_sale               0\n",
       "geo_location_country        0\n",
       "is_mobile                   0\n",
       "destination_id              0\n",
       "checkin_date                7\n",
       "checkout_date               7\n",
       "adult_count                 0\n",
       "child_count                 0\n",
       "infant_count                0\n",
       "room_count                  0\n",
       "sort_type                   0\n",
       "applied_filters         66598\n",
       "impressions                 0\n",
       "dtype: int64"
      ]
     },
     "execution_count": 7,
     "metadata": {},
     "output_type": "execute_result"
    }
   ],
   "source": [
    "# As it looks many searches were conducted without date restrictions\n",
    "main.isna().sum()"
   ]
  },
  {
   "cell_type": "code",
   "execution_count": 8,
   "id": "quiet-recorder",
   "metadata": {},
   "outputs": [],
   "source": [
    "\n",
    "def correct_neg(x): # Created in order to substitute negative entries with Nan values on the below column\n",
    "    if x<0:\n",
    "        x= None\n",
    "    return x"
   ]
  },
  {
   "cell_type": "code",
   "execution_count": 9,
   "id": "difficult-extent",
   "metadata": {},
   "outputs": [],
   "source": [
    "#Extracting date out of the timestamp. This aims to see how\n",
    "# many days before staying did the search take place\n",
    "main['search_date'] = main['search_timestamp'].str[:10]\n",
    "main['search_date']= pd.to_datetime(main['search_date'])\n",
    "main['check_date']= pd.to_datetime(main['checkin_date'])\n",
    "main['days_before_staying'] = main['check_date'] - main['search_date']\n",
    "main['days_before_staying'] = pd.to_timedelta(main['days_before_staying'], errors='coerce').dt.days\n",
    "main['days_before_staying'] = main['days_before_staying'].apply(correct_neg)"
   ]
  },
  {
   "cell_type": "code",
   "execution_count": 10,
   "id": "awful-dodge",
   "metadata": {},
   "outputs": [
    {
     "name": "stderr",
     "output_type": "stream",
     "text": [
      "c:\\users\\ezet\\appdata\\local\\programs\\python\\python39\\lib\\site-packages\\seaborn\\distributions.py:2557: FutureWarning: `distplot` is a deprecated function and will be removed in a future version. Please adapt your code to use either `displot` (a figure-level function with similar flexibility) or `histplot` (an axes-level function for histograms).\n",
      "  warnings.warn(msg, FutureWarning)\n"
     ]
    },
    {
     "data": {
      "image/png": "[encoded data removed]",
      "text/plain": [
       "<Figure size 432x288 with 1 Axes>"
      ]
     },
     "metadata": {
      "needs_background": "light"
     },
     "output_type": "display_data"
    }
   ],
   "source": [
    "ax = sns.distplot(x=main['days_before_staying'],axlabel='days')\n",
    "\n",
    "# We see that most of the people do not schedule much ahead. Maybe they decide vacations or business at the \n",
    "#very last moment, or waiting for something better to rise until the last moment"
   ]
  },
  {
   "cell_type": "code",
   "execution_count": 11,
   "id": "lasting-vegetation",
   "metadata": {},
   "outputs": [
    {
     "name": "stdout",
     "output_type": "stream",
     "text": [
      "The collected data are searches between  2021-06-01  and  2021-07-31\n"
     ]
    }
   ],
   "source": [
    "print('The collected data are searches between ',min(main['search_date'].dt.date),' and ',\n",
    "      max(main['search_date'].dt.date))"
   ]
  },
  {
   "cell_type": "code",
   "execution_count": 12,
   "id": "stretch-string",
   "metadata": {},
   "outputs": [
    {
     "data": {
      "image/png": "[encoded data removed]",
      "text/plain": [
       "<Figure size 432x288 with 1 Axes>"
      ]
     },
     "metadata": {
      "needs_background": "light"
     },
     "output_type": "display_data"
    }
   ],
   "source": [
    "#How many rooms were the searches about\n",
    "ax = sns.countplot(x=main['room_count'])"
   ]
  },
  {
   "cell_type": "markdown",
   "id": "familiar-brain",
   "metadata": {},
   "source": [
    "Transforming some integers to strings since the do not have quantity meaning"
   ]
  },
  {
   "cell_type": "code",
   "execution_count": 13,
   "id": "reliable-channels",
   "metadata": {},
   "outputs": [],
   "source": [
    "main['user_id'] = main['user_id'].astype('str')\n",
    "main['search_id'] = main['search_id'].astype('str')\n",
    "main['point_of_sale'] = main['point_of_sale'].astype('str')\n",
    "main['geo_location_country'] = main['geo_location_country'].astype('str')\n",
    "main['destination_id'] = main['destination_id'].astype('str')"
   ]
  },
  {
   "cell_type": "code",
   "execution_count": 14,
   "id": "accessible-label",
   "metadata": {},
   "outputs": [
    {
     "data": {
      "text/plain": [
       "user_id                         object\n",
       "search_id                       object\n",
       "search_timestamp                object\n",
       "point_of_sale                   object\n",
       "geo_location_country            object\n",
       "is_mobile                        int64\n",
       "destination_id                  object\n",
       "checkin_date                    object\n",
       "checkout_date                   object\n",
       "adult_count                      int64\n",
       "child_count                      int64\n",
       "infant_count                     int64\n",
       "room_count                       int64\n",
       "sort_type                       object\n",
       "applied_filters                 object\n",
       "impressions                     object\n",
       "search_date             datetime64[ns]\n",
       "check_date              datetime64[ns]\n",
       "days_before_staying            float64\n",
       "dtype: object"
      ]
     },
     "execution_count": 14,
     "metadata": {},
     "output_type": "execute_result"
    }
   ],
   "source": [
    "main.dtypes"
   ]
  },
  {
   "cell_type": "code",
   "execution_count": 15,
   "id": "periodic-fields",
   "metadata": {},
   "outputs": [],
   "source": [
    "def child_bool(x, y): \n",
    "    return x + y  > 0  "
   ]
  },
  {
   "cell_type": "markdown",
   "id": "quick-jerusalem",
   "metadata": {},
   "source": [
    "New column revealing whether it is a family search or not"
   ]
  },
  {
   "cell_type": "code",
   "execution_count": 16,
   "id": "backed-screen",
   "metadata": {},
   "outputs": [],
   "source": [
    "main['with_children'] =main.apply(lambda x: child_bool(x['child_count'], x['infant_count']), axis=1)"
   ]
  },
  {
   "cell_type": "code",
   "execution_count": 17,
   "id": "linear-consciousness",
   "metadata": {},
   "outputs": [
    {
     "data": {
      "text/plain": [
       "False    85796\n",
       "True     14204\n",
       "Name: with_children, dtype: int64"
      ]
     },
     "execution_count": 17,
     "metadata": {},
     "output_type": "execute_result"
    }
   ],
   "source": [
    "# How many searches included chuldren and how many not\n",
    "main['with_children'].value_counts()"
   ]
  },
  {
   "cell_type": "code",
   "execution_count": 18,
   "id": "ordered-baker",
   "metadata": {},
   "outputs": [],
   "source": [
    "# Total people of each search\n",
    "main['total_people'] = main['adult_count']+ main['child_count']+main['infant_count']"
   ]
  },
  {
   "cell_type": "code",
   "execution_count": 19,
   "id": "designed-stand",
   "metadata": {},
   "outputs": [
    {
     "name": "stderr",
     "output_type": "stream",
     "text": [
      "c:\\users\\ezet\\appdata\\local\\programs\\python\\python39\\lib\\site-packages\\seaborn\\distributions.py:2557: FutureWarning: `distplot` is a deprecated function and will be removed in a future version. Please adapt your code to use either `displot` (a figure-level function with similar flexibility) or `histplot` (an axes-level function for histograms).\n",
      "  warnings.warn(msg, FutureWarning)\n",
      "c:\\users\\ezet\\appdata\\local\\programs\\python\\python39\\lib\\site-packages\\seaborn\\distributions.py:2557: FutureWarning: `distplot` is a deprecated function and will be removed in a future version. Please adapt your code to use either `displot` (a figure-level function with similar flexibility) or `histplot` (an axes-level function for histograms).\n",
      "  warnings.warn(msg, FutureWarning)\n"
     ]
    },
    {
     "data": {
      "text/plain": [
       "<matplotlib.legend.Legend at 0x1ead75de790>"
      ]
     },
     "execution_count": 19,
     "metadata": {},
     "output_type": "execute_result"
    },
    {
     "data": {
      "image/png": "[encoded data removed]",
      "text/plain": [
       "<Figure size 432x288 with 1 Axes>"
      ]
     },
     "metadata": {
      "needs_background": "light"
     },
     "output_type": "display_data"
    }
   ],
   "source": [
    "# Comparison bwtween distributions of total people whether kids are included or not\n",
    "sns.distplot(main[~main['with_children']]['total_people'], label='no children', color='C0')\n",
    "sns.distplot(main[main['with_children']]['total_people'], label='children', color='C1')\n",
    "\n",
    "plt.legend()"
   ]
  },
  {
   "cell_type": "markdown",
   "id": "natural-disco",
   "metadata": {},
   "source": [
    "# EXPORTING CLICKED AND BOOKED HOTELS OUT OF ATTRIBUTE: 'IMPRESSIONS'"
   ]
  },
  {
   "cell_type": "code",
   "execution_count": 20,
   "id": "structural-moses",
   "metadata": {},
   "outputs": [],
   "source": [
    "df = main"
   ]
  },
  {
   "cell_type": "code",
   "execution_count": 21,
   "id": "direct-movie",
   "metadata": {},
   "outputs": [],
   "source": [
    "# The following function is accepting as\n",
    "#input a string and splits it on char '|'\n",
    "#If the strings that were designed after the split have as last 3 characters these--> '0,0'\n",
    "#it means that this string's hotel was neither clicked nor booked. I do this in order to keep\n",
    "# the rest of the hotels. So the function return the strings with hotels booked or clicked\n",
    "def func(x):\n",
    "    b = []\n",
    "    x = x.split('|')\n",
    "    for i in x:\n",
    "        if i[-3:] != '0,0':\n",
    "            b.append(i)\n",
    "    if len(b) == 0:\n",
    "        b = 0\n",
    "    return b"
   ]
  },
  {
   "cell_type": "code",
   "execution_count": 22,
   "id": "foster-alberta",
   "metadata": {},
   "outputs": [],
   "source": [
    "# Applying the function on the impressions columns\n",
    "df['impressions'] = df['impressions'].apply(func)"
   ]
  },
  {
   "cell_type": "code",
   "execution_count": 23,
   "id": "alternate-reducing",
   "metadata": {},
   "outputs": [],
   "source": [
    "df = df[['user_id','search_timestamp', \"days_before_staying\",'impressions']]"
   ]
  },
  {
   "cell_type": "code",
   "execution_count": 24,
   "id": "fourth-grave",
   "metadata": {},
   "outputs": [
    {
     "data": {
      "text/html": [
       "<div>\n",
       "<style scoped>\n",
       "    .dataframe tbody tr th:only-of-type {\n",
       "        vertical-align: middle;\n",
       "    }\n",
       "\n",
       "    .dataframe tbody tr th {\n",
       "        vertical-align: top;\n",
       "    }\n",
       "\n",
       "    .dataframe thead th {\n",
       "        text-align: right;\n",
       "    }\n",
       "</style>\n",
       "<table border=\"1\" class=\"dataframe\">\n",
       "  <thead>\n",
       "    <tr style=\"text-align: right;\">\n",
       "      <th></th>\n",
       "      <th>user_id</th>\n",
       "      <th>search_timestamp</th>\n",
       "      <th>days_before_staying</th>\n",
       "      <th>impressions</th>\n",
       "    </tr>\n",
       "  </thead>\n",
       "  <tbody>\n",
       "    <tr>\n",
       "      <th>0</th>\n",
       "      <td>001bbff3030c95740d4c55bb72e823e9</td>\n",
       "      <td>2021-07-02T19:38:00.000Z</td>\n",
       "      <td>2.0</td>\n",
       "      <td>[7,2722643,0,4.0,75.0,3.0,1,1,2,1,0, 9,1197530...</td>\n",
       "    </tr>\n",
       "    <tr>\n",
       "      <th>1</th>\n",
       "      <td>002ba2a7c74dbffc32e4568af230d49a</td>\n",
       "      <td>2021-06-23T03:39:00.000Z</td>\n",
       "      <td>79.0</td>\n",
       "      <td>0</td>\n",
       "    </tr>\n",
       "    <tr>\n",
       "      <th>2</th>\n",
       "      <td>00c5152ed6ef5b937e8320a260bde084</td>\n",
       "      <td>2021-06-10T00:08:00.000Z</td>\n",
       "      <td>27.0</td>\n",
       "      <td>[1,1624072,0,4.0,1250.0,4.0,1,1,2,1,0]</td>\n",
       "    </tr>\n",
       "    <tr>\n",
       "      <th>3</th>\n",
       "      <td>00d5e2bca7962f67d5695e7e7b92feb8</td>\n",
       "      <td>2021-07-16T01:08:00.000Z</td>\n",
       "      <td>40.0</td>\n",
       "      <td>0</td>\n",
       "    </tr>\n",
       "    <tr>\n",
       "      <th>4</th>\n",
       "      <td>013f92616fe583c4ba0c3919b69cf3d9</td>\n",
       "      <td>2021-07-07T20:49:00.000Z</td>\n",
       "      <td>54.0</td>\n",
       "      <td>0</td>\n",
       "    </tr>\n",
       "    <tr>\n",
       "      <th>...</th>\n",
       "      <td>...</td>\n",
       "      <td>...</td>\n",
       "      <td>...</td>\n",
       "      <td>...</td>\n",
       "    </tr>\n",
       "    <tr>\n",
       "      <th>99995</th>\n",
       "      <td>6319e4de4c9bff4c11d59eb02b1cab98</td>\n",
       "      <td>2021-06-05T01:28:00.000Z</td>\n",
       "      <td>49.0</td>\n",
       "      <td>[5,5890703,0,4.0,450.0,3.0,1,0,2,1,0]</td>\n",
       "    </tr>\n",
       "    <tr>\n",
       "      <th>99996</th>\n",
       "      <td>6319e4de4c9bff4c11d59eb02b1cab98</td>\n",
       "      <td>2021-06-09T17:29:00.000Z</td>\n",
       "      <td>45.0</td>\n",
       "      <td>0</td>\n",
       "    </tr>\n",
       "    <tr>\n",
       "      <th>99997</th>\n",
       "      <td>631a0b600f0df4cd406ac7141df87725</td>\n",
       "      <td>2021-06-08T03:04:00.000Z</td>\n",
       "      <td>216.0</td>\n",
       "      <td>0</td>\n",
       "    </tr>\n",
       "    <tr>\n",
       "      <th>99998</th>\n",
       "      <td>631a0b600f0df4cd406ac7141df87725</td>\n",
       "      <td>2021-06-08T03:06:00.000Z</td>\n",
       "      <td>237.0</td>\n",
       "      <td>0</td>\n",
       "    </tr>\n",
       "    <tr>\n",
       "      <th>99999</th>\n",
       "      <td>631a0b600f0df4cd406ac7141df87725</td>\n",
       "      <td>2021-06-08T03:07:00.000Z</td>\n",
       "      <td>252.0</td>\n",
       "      <td>0</td>\n",
       "    </tr>\n",
       "  </tbody>\n",
       "</table>\n",
       "<p>100000 rows × 4 columns</p>\n",
       "</div>"
      ],
      "text/plain": [
       "                                user_id          search_timestamp  \\\n",
       "0      001bbff3030c95740d4c55bb72e823e9  2021-07-02T19:38:00.000Z   \n",
       "1      002ba2a7c74dbffc32e4568af230d49a  2021-06-23T03:39:00.000Z   \n",
       "2      00c5152ed6ef5b937e8320a260bde084  2021-06-10T00:08:00.000Z   \n",
       "3      00d5e2bca7962f67d5695e7e7b92feb8  2021-07-16T01:08:00.000Z   \n",
       "4      013f92616fe583c4ba0c3919b69cf3d9  2021-07-07T20:49:00.000Z   \n",
       "...                                 ...                       ...   \n",
       "99995  6319e4de4c9bff4c11d59eb02b1cab98  2021-06-05T01:28:00.000Z   \n",
       "99996  6319e4de4c9bff4c11d59eb02b1cab98  2021-06-09T17:29:00.000Z   \n",
       "99997  631a0b600f0df4cd406ac7141df87725  2021-06-08T03:04:00.000Z   \n",
       "99998  631a0b600f0df4cd406ac7141df87725  2021-06-08T03:06:00.000Z   \n",
       "99999  631a0b600f0df4cd406ac7141df87725  2021-06-08T03:07:00.000Z   \n",
       "\n",
       "       days_before_staying                                        impressions  \n",
       "0                      2.0  [7,2722643,0,4.0,75.0,3.0,1,1,2,1,0, 9,1197530...  \n",
       "1                     79.0                                                  0  \n",
       "2                     27.0             [1,1624072,0,4.0,1250.0,4.0,1,1,2,1,0]  \n",
       "3                     40.0                                                  0  \n",
       "4                     54.0                                                  0  \n",
       "...                    ...                                                ...  \n",
       "99995                 49.0              [5,5890703,0,4.0,450.0,3.0,1,0,2,1,0]  \n",
       "99996                 45.0                                                  0  \n",
       "99997                216.0                                                  0  \n",
       "99998                237.0                                                  0  \n",
       "99999                252.0                                                  0  \n",
       "\n",
       "[100000 rows x 4 columns]"
      ]
     },
     "execution_count": 24,
     "metadata": {},
     "output_type": "execute_result"
    }
   ],
   "source": [
    "df"
   ]
  },
  {
   "cell_type": "code",
   "execution_count": 25,
   "id": "polish-sympathy",
   "metadata": {},
   "outputs": [],
   "source": [
    "# Getting rid of searches without clicks\n",
    "df =df[df['impressions']!=0]"
   ]
  },
  {
   "cell_type": "code",
   "execution_count": 26,
   "id": "subsequent-dating",
   "metadata": {},
   "outputs": [],
   "source": [
    "#resetting index\n",
    "df = df.reset_index()"
   ]
  },
  {
   "cell_type": "code",
   "execution_count": 27,
   "id": "desirable-appreciation",
   "metadata": {},
   "outputs": [],
   "source": [
    "#dropping the previous index column\n",
    "df.drop('index', inplace=True, axis=1)"
   ]
  },
  {
   "cell_type": "code",
   "execution_count": 28,
   "id": "technical-therapist",
   "metadata": {},
   "outputs": [
    {
     "data": {
      "text/html": [
       "<div>\n",
       "<style scoped>\n",
       "    .dataframe tbody tr th:only-of-type {\n",
       "        vertical-align: middle;\n",
       "    }\n",
       "\n",
       "    .dataframe tbody tr th {\n",
       "        vertical-align: top;\n",
       "    }\n",
       "\n",
       "    .dataframe thead th {\n",
       "        text-align: right;\n",
       "    }\n",
       "</style>\n",
       "<table border=\"1\" class=\"dataframe\">\n",
       "  <thead>\n",
       "    <tr style=\"text-align: right;\">\n",
       "      <th></th>\n",
       "      <th>user_id</th>\n",
       "      <th>search_timestamp</th>\n",
       "      <th>days_before_staying</th>\n",
       "      <th>impressions</th>\n",
       "    </tr>\n",
       "  </thead>\n",
       "  <tbody>\n",
       "    <tr>\n",
       "      <th>0</th>\n",
       "      <td>001bbff3030c95740d4c55bb72e823e9</td>\n",
       "      <td>2021-07-02T19:38:00.000Z</td>\n",
       "      <td>2.0</td>\n",
       "      <td>[7,2722643,0,4.0,75.0,3.0,1,1,2,1,0, 9,1197530...</td>\n",
       "    </tr>\n",
       "    <tr>\n",
       "      <th>1</th>\n",
       "      <td>00c5152ed6ef5b937e8320a260bde084</td>\n",
       "      <td>2021-06-10T00:08:00.000Z</td>\n",
       "      <td>27.0</td>\n",
       "      <td>[1,1624072,0,4.0,1250.0,4.0,1,1,2,1,0]</td>\n",
       "    </tr>\n",
       "    <tr>\n",
       "      <th>2</th>\n",
       "      <td>016f433e1e98146912a7c2600c2ad3f0</td>\n",
       "      <td>2021-06-25T05:54:00.000Z</td>\n",
       "      <td>30.0</td>\n",
       "      <td>[1,1417933,0,4.0,200.0,3.0,1,0,1,2,0]</td>\n",
       "    </tr>\n",
       "    <tr>\n",
       "      <th>3</th>\n",
       "      <td>01a367de6a4a099fbd380ad28f9314aa</td>\n",
       "      <td>2021-06-10T22:04:00.000Z</td>\n",
       "      <td>53.0</td>\n",
       "      <td>[1,4291709,0,4.0,1025.0,3.0,1,0,5,1,0]</td>\n",
       "    </tr>\n",
       "    <tr>\n",
       "      <th>4</th>\n",
       "      <td>028382cf0696909da6c5bc201a4a2027</td>\n",
       "      <td>2021-06-04T09:01:00.000Z</td>\n",
       "      <td>14.0</td>\n",
       "      <td>[1,1767157,0,4.0,25.0,5.0,1,1,4,2,0]</td>\n",
       "    </tr>\n",
       "    <tr>\n",
       "      <th>...</th>\n",
       "      <td>...</td>\n",
       "      <td>...</td>\n",
       "      <td>...</td>\n",
       "      <td>...</td>\n",
       "    </tr>\n",
       "    <tr>\n",
       "      <th>19022</th>\n",
       "      <td>623c11cd9714441e3339f15e09fdcde1</td>\n",
       "      <td>2021-06-09T23:15:00.000Z</td>\n",
       "      <td>50.0</td>\n",
       "      <td>[37,6231012,0,4.0,25.0,null,0,0,1,1,0, 38,6590...</td>\n",
       "    </tr>\n",
       "    <tr>\n",
       "      <th>19023</th>\n",
       "      <td>623c11cd9714441e3339f15e09fdcde1</td>\n",
       "      <td>2021-06-09T23:17:00.000Z</td>\n",
       "      <td>50.0</td>\n",
       "      <td>[21,1899208,0,4.0,475.0,4.0,1,0,5,1,0]</td>\n",
       "    </tr>\n",
       "    <tr>\n",
       "      <th>19024</th>\n",
       "      <td>62dc2866ab6c76ec55847d0fb204515a</td>\n",
       "      <td>2021-07-16T00:11:00.000Z</td>\n",
       "      <td>25.0</td>\n",
       "      <td>[1,1085533,0,3.0,400.0,2.0,1,1,1,1,0]</td>\n",
       "    </tr>\n",
       "    <tr>\n",
       "      <th>19025</th>\n",
       "      <td>6319e4de4c9bff4c11d59eb02b1cab98</td>\n",
       "      <td>2021-06-01T18:02:00.000Z</td>\n",
       "      <td>10.0</td>\n",
       "      <td>[1,740717,0,4.0,350.0,3.0,1,0,3,2,0]</td>\n",
       "    </tr>\n",
       "    <tr>\n",
       "      <th>19026</th>\n",
       "      <td>6319e4de4c9bff4c11d59eb02b1cab98</td>\n",
       "      <td>2021-06-05T01:28:00.000Z</td>\n",
       "      <td>49.0</td>\n",
       "      <td>[5,5890703,0,4.0,450.0,3.0,1,0,2,1,0]</td>\n",
       "    </tr>\n",
       "  </tbody>\n",
       "</table>\n",
       "<p>19027 rows × 4 columns</p>\n",
       "</div>"
      ],
      "text/plain": [
       "                                user_id          search_timestamp  \\\n",
       "0      001bbff3030c95740d4c55bb72e823e9  2021-07-02T19:38:00.000Z   \n",
       "1      00c5152ed6ef5b937e8320a260bde084  2021-06-10T00:08:00.000Z   \n",
       "2      016f433e1e98146912a7c2600c2ad3f0  2021-06-25T05:54:00.000Z   \n",
       "3      01a367de6a4a099fbd380ad28f9314aa  2021-06-10T22:04:00.000Z   \n",
       "4      028382cf0696909da6c5bc201a4a2027  2021-06-04T09:01:00.000Z   \n",
       "...                                 ...                       ...   \n",
       "19022  623c11cd9714441e3339f15e09fdcde1  2021-06-09T23:15:00.000Z   \n",
       "19023  623c11cd9714441e3339f15e09fdcde1  2021-06-09T23:17:00.000Z   \n",
       "19024  62dc2866ab6c76ec55847d0fb204515a  2021-07-16T00:11:00.000Z   \n",
       "19025  6319e4de4c9bff4c11d59eb02b1cab98  2021-06-01T18:02:00.000Z   \n",
       "19026  6319e4de4c9bff4c11d59eb02b1cab98  2021-06-05T01:28:00.000Z   \n",
       "\n",
       "       days_before_staying                                        impressions  \n",
       "0                      2.0  [7,2722643,0,4.0,75.0,3.0,1,1,2,1,0, 9,1197530...  \n",
       "1                     27.0             [1,1624072,0,4.0,1250.0,4.0,1,1,2,1,0]  \n",
       "2                     30.0              [1,1417933,0,4.0,200.0,3.0,1,0,1,2,0]  \n",
       "3                     53.0             [1,4291709,0,4.0,1025.0,3.0,1,0,5,1,0]  \n",
       "4                     14.0               [1,1767157,0,4.0,25.0,5.0,1,1,4,2,0]  \n",
       "...                    ...                                                ...  \n",
       "19022                 50.0  [37,6231012,0,4.0,25.0,null,0,0,1,1,0, 38,6590...  \n",
       "19023                 50.0             [21,1899208,0,4.0,475.0,4.0,1,0,5,1,0]  \n",
       "19024                 25.0              [1,1085533,0,3.0,400.0,2.0,1,1,1,1,0]  \n",
       "19025                 10.0               [1,740717,0,4.0,350.0,3.0,1,0,3,2,0]  \n",
       "19026                 49.0              [5,5890703,0,4.0,450.0,3.0,1,0,2,1,0]  \n",
       "\n",
       "[19027 rows x 4 columns]"
      ]
     },
     "execution_count": 28,
     "metadata": {},
     "output_type": "execute_result"
    }
   ],
   "source": [
    "df"
   ]
  },
  {
   "cell_type": "code",
   "execution_count": 29,
   "id": "ahead-arena",
   "metadata": {},
   "outputs": [],
   "source": [
    "# Buliding a new df which contains only users,days_before_staying and impressions\n",
    "df2 = pd.DataFrame(columns=[])\n",
    "a=[]\n",
    "b=[]\n",
    "c=[]\n",
    "d=[]\n",
    "\n",
    "for i in range(0,len(df)):\n",
    "    for y in range(0,len(df['impressions'][i])):\n",
    "        a.append(df['user_id'][i])\n",
    "        b.append(df['search_timestamp'][i])\n",
    "        c.append(df['days_before_staying'][i])\n",
    "        d.append(df['impressions'][i][y])\n",
    "        \n",
    "df2['user_id'] = a\n",
    "df2['search_timestamp'] = b\n",
    "df2['days_before_staying'] = c\n",
    "df2['impressions'] = d"
   ]
  },
  {
   "cell_type": "code",
   "execution_count": 30,
   "id": "excited-holly",
   "metadata": {},
   "outputs": [],
   "source": [
    "# Splitting the information inside impressions\n",
    "\n",
    "def collapse(x):\n",
    "    return x.split(',')"
   ]
  },
  {
   "cell_type": "code",
   "execution_count": 31,
   "id": "metallic-possible",
   "metadata": {},
   "outputs": [],
   "source": [
    "\n",
    "df2['impressions'] = df2['impressions'].apply(collapse)"
   ]
  },
  {
   "cell_type": "code",
   "execution_count": 32,
   "id": "prostate-merchandise",
   "metadata": {},
   "outputs": [],
   "source": [
    "# Creating new columns\n",
    "names = ['rank','prop_id','is_travel_ad','review_rating','review_count',\n",
    "         'star_rating','is_free_cancellation','is_drr','price_bucket',\n",
    "        'num_clicks','is_trans']\n",
    "for i in range(0,len(names)):\n",
    "    \n",
    "    df2[names[i]] = df2['impressions'].apply(lambda x: x[i])"
   ]
  },
  {
   "cell_type": "code",
   "execution_count": 33,
   "id": "marked-mathematics",
   "metadata": {},
   "outputs": [
    {
     "data": {
      "text/plain": [
       "user_id                  object\n",
       "search_timestamp         object\n",
       "days_before_staying     float64\n",
       "impressions              object\n",
       "rank                     object\n",
       "prop_id                  object\n",
       "is_travel_ad             object\n",
       "review_rating            object\n",
       "review_count             object\n",
       "star_rating              object\n",
       "is_free_cancellation     object\n",
       "is_drr                   object\n",
       "price_bucket             object\n",
       "num_clicks               object\n",
       "is_trans                 object\n",
       "dtype: object"
      ]
     },
     "execution_count": 33,
     "metadata": {},
     "output_type": "execute_result"
    }
   ],
   "source": [
    "# Types of columns\n",
    "df2.dtypes"
   ]
  },
  {
   "cell_type": "code",
   "execution_count": 34,
   "id": "monthly-leone",
   "metadata": {},
   "outputs": [],
   "source": [
    "# Replacing texts writting null with actual None\n",
    "df2 = df2.replace('null', None)"
   ]
  },
  {
   "cell_type": "code",
   "execution_count": 35,
   "id": "small-heather",
   "metadata": {},
   "outputs": [
    {
     "data": {
      "text/plain": [
       "user_id                   0\n",
       "search_timestamp          0\n",
       "days_before_staying     553\n",
       "impressions               0\n",
       "rank                      0\n",
       "prop_id                   0\n",
       "is_travel_ad              0\n",
       "review_rating             0\n",
       "review_count              0\n",
       "star_rating               0\n",
       "is_free_cancellation      0\n",
       "is_drr                    0\n",
       "price_bucket              0\n",
       "num_clicks                0\n",
       "is_trans                  0\n",
       "dtype: int64"
      ]
     },
     "execution_count": 35,
     "metadata": {},
     "output_type": "execute_result"
    }
   ],
   "source": [
    "df2.isna().sum()"
   ]
  },
  {
   "cell_type": "code",
   "execution_count": 36,
   "id": "identical-school",
   "metadata": {},
   "outputs": [],
   "source": [
    "# Changing types of columns\n",
    "\n",
    "df2['rank']=df2['rank'].astype(float)\n",
    "\n",
    "df2['is_travel_ad']=df2['is_travel_ad'].astype(float)\n",
    "df2['review_rating']=df2['review_rating'].astype(float)\n",
    "df2['review_count']=df2['review_count'].astype(float)\n",
    "df2['star_rating']=df2['star_rating'].astype(float)\n",
    "df2['is_free_cancellation']=df2['is_free_cancellation'].astype(float)\n",
    "df2['is_drr']=df2['is_drr'].astype(float)\n",
    "df2['num_clicks']=df2['num_clicks'].astype(int)\n",
    "df2['is_trans']=df2['is_trans'].astype(int)\n",
    "# I do not care about the quantity of clicks on a hotel\n",
    "# When we have clicks I will assume that the user clicked it\n",
    "df2['num_clicks'] = df2['num_clicks'].apply(lambda x: x>0).astype(int)"
   ]
  },
  {
   "cell_type": "code",
   "execution_count": 37,
   "id": "interested-burlington",
   "metadata": {},
   "outputs": [],
   "source": [
    "df2['search_timestamp'] =pd.to_datetime(df2['search_timestamp'])"
   ]
  },
  {
   "cell_type": "code",
   "execution_count": 38,
   "id": "direct-mission",
   "metadata": {},
   "outputs": [],
   "source": [
    "df2 = df2.sort_values(by=['user_id', 'search_timestamp'])"
   ]
  },
  {
   "cell_type": "code",
   "execution_count": 39,
   "id": "widespread-vegetable",
   "metadata": {},
   "outputs": [],
   "source": [
    "df2 = df2.reset_index()\n",
    "df2.drop('index', inplace=True, axis=1)"
   ]
  },
  {
   "cell_type": "code",
   "execution_count": 40,
   "id": "focal-bikini",
   "metadata": {},
   "outputs": [],
   "source": [
    "df2['price_bucket']=df2['price_bucket'].astype(int)"
   ]
  },
  {
   "cell_type": "code",
   "execution_count": 41,
   "id": "backed-madness",
   "metadata": {},
   "outputs": [
    {
     "data": {
      "text/plain": [
       "user_id                           is_trans\n",
       "0001ecbcc3ce52bef7428d7acfddf1ed  0           3.666667\n",
       "000a82de0fd0ccab4e97ff022bba578b  0           2.500000\n",
       "000b17934a0009684d348f57caddfbff  0           1.000000\n",
       "000e912f93e58b490912e5ea7dac6357  0           2.000000\n",
       "0010b47a07c3c15d5c7490adb6f92f93  0           4.000000\n",
       "                                                ...   \n",
       "ffe6eff69cfbcd0384b22a3493df35b6  0           2.500000\n",
       "ffef11d7721684ff02676f10f3493c5f  0           2.222222\n",
       "ffefdf472e2b722d0bc1ce307f1fcd3c  0           5.000000\n",
       "fff4eec7b8cd7739932aef3778e54adb  0           4.000000\n",
       "fff8d3bf8c10121abb2e94a36f367289  0           1.000000\n",
       "Name: price_bucket, Length: 11740, dtype: float64"
      ]
     },
     "execution_count": 41,
     "metadata": {},
     "output_type": "execute_result"
    }
   ],
   "source": [
    "k = df2.groupby(['user_id','is_trans']).mean()['price_bucket']\n",
    "k"
   ]
  },
  {
   "cell_type": "code",
   "execution_count": 42,
   "id": "atomic-intellectual",
   "metadata": {},
   "outputs": [],
   "source": [
    "clicked = []\n",
    "booked = []\n",
    "for i in range(1,len(k.index)):\n",
    "    if k.index[i-1][0]==k.index[i][0]:\n",
    "        clicked.append(k[i-1])\n",
    "        booked.append(k[i])"
   ]
  },
  {
   "cell_type": "code",
   "execution_count": 43,
   "id": "regulated-student",
   "metadata": {},
   "outputs": [
    {
     "data": {
      "text/plain": [
       "706"
      ]
     },
     "execution_count": 43,
     "metadata": {},
     "output_type": "execute_result"
    }
   ],
   "source": [
    "len(clicked)"
   ]
  },
  {
   "cell_type": "code",
   "execution_count": 44,
   "id": "victorian-purchase",
   "metadata": {},
   "outputs": [
    {
     "data": {
      "text/plain": [
       "706"
      ]
     },
     "execution_count": 44,
     "metadata": {},
     "output_type": "execute_result"
    }
   ],
   "source": [
    "len(booked)"
   ]
  },
  {
   "cell_type": "code",
   "execution_count": 45,
   "id": "acute-measure",
   "metadata": {},
   "outputs": [
    {
     "name": "stderr",
     "output_type": "stream",
     "text": [
      "c:\\users\\ezet\\appdata\\local\\programs\\python\\python39\\lib\\site-packages\\seaborn\\distributions.py:2557: FutureWarning: `distplot` is a deprecated function and will be removed in a future version. Please adapt your code to use either `displot` (a figure-level function with similar flexibility) or `histplot` (an axes-level function for histograms).\n",
      "  warnings.warn(msg, FutureWarning)\n",
      "c:\\users\\ezet\\appdata\\local\\programs\\python\\python39\\lib\\site-packages\\seaborn\\distributions.py:2557: FutureWarning: `distplot` is a deprecated function and will be removed in a future version. Please adapt your code to use either `displot` (a figure-level function with similar flexibility) or `histplot` (an axes-level function for histograms).\n",
      "  warnings.warn(msg, FutureWarning)\n"
     ]
    },
    {
     "data": {
      "image/png": "[encoded data removed]",
      "text/plain": [
       "<Figure size 432x288 with 1 Axes>"
      ]
     },
     "metadata": {
      "needs_background": "light"
     },
     "output_type": "display_data"
    }
   ],
   "source": []
  },
  {
   "cell_type": "code",
   "execution_count": 98,
   "id": "expected-herald",
   "metadata": {},
   "outputs": [],
   "source": [
    "# Building dfs with only transactions and only not transactions\n",
    "# I am aiming to isolate the users who booked AND clicked\n",
    "users1 = df2[df2['is_trans']==1]['user_id']\n",
    "users0 = df2[df2['is_trans']==0]['user_id']"
   ]
  },
  {
   "cell_type": "code",
   "execution_count": 99,
   "id": "waiting-approval",
   "metadata": {},
   "outputs": [],
   "source": [
    "df3 = df2.copy()"
   ]
  },
  {
   "cell_type": "code",
   "execution_count": 100,
   "id": "major-surrey",
   "metadata": {},
   "outputs": [],
   "source": [
    "df3.drop(df3.index, inplace=True)"
   ]
  },
  {
   "cell_type": "code",
   "execution_count": 101,
   "id": "eight-intellectual",
   "metadata": {},
   "outputs": [],
   "source": [
    "for i in users1.unique():\n",
    "    if i in users0.unique():\n",
    "        df3 = df3.append(df2[df2['user_id'] ==i])"
   ]
  },
  {
   "cell_type": "code",
   "execution_count": 121,
   "id": "studied-flush",
   "metadata": {},
   "outputs": [
    {
     "data": {
      "text/plain": [
       "array([0, 1])"
      ]
     },
     "execution_count": 121,
     "metadata": {},
     "output_type": "execute_result"
    }
   ],
   "source": [
    "df3['is_trans'].unique()"
   ]
  },
  {
   "cell_type": "code",
   "execution_count": 137,
   "id": "bigger-arizona",
   "metadata": {},
   "outputs": [],
   "source": [
    "k = df3.groupby(['user_id','is_trans']).mean()"
   ]
  },
  {
   "cell_type": "code",
   "execution_count": 135,
   "id": "according-namibia",
   "metadata": {},
   "outputs": [
    {
     "data": {
      "text/html": [
       "<div>\n",
       "<style scoped>\n",
       "    .dataframe tbody tr th:only-of-type {\n",
       "        vertical-align: middle;\n",
       "    }\n",
       "\n",
       "    .dataframe tbody tr th {\n",
       "        vertical-align: top;\n",
       "    }\n",
       "\n",
       "    .dataframe thead th {\n",
       "        text-align: right;\n",
       "    }\n",
       "</style>\n",
       "<table border=\"1\" class=\"dataframe\">\n",
       "  <thead>\n",
       "    <tr style=\"text-align: right;\">\n",
       "      <th></th>\n",
       "      <th>is_trans</th>\n",
       "      <th>days_before_staying</th>\n",
       "      <th>rank</th>\n",
       "      <th>is_travel_ad</th>\n",
       "      <th>review_rating</th>\n",
       "      <th>review_count</th>\n",
       "      <th>star_rating</th>\n",
       "      <th>is_free_cancellation</th>\n",
       "      <th>is_drr</th>\n",
       "      <th>price_bucket</th>\n",
       "      <th>num_clicks</th>\n",
       "    </tr>\n",
       "    <tr>\n",
       "      <th>user_id</th>\n",
       "      <th></th>\n",
       "      <th></th>\n",
       "      <th></th>\n",
       "      <th></th>\n",
       "      <th></th>\n",
       "      <th></th>\n",
       "      <th></th>\n",
       "      <th></th>\n",
       "      <th></th>\n",
       "      <th></th>\n",
       "      <th></th>\n",
       "    </tr>\n",
       "  </thead>\n",
       "  <tbody>\n",
       "    <tr>\n",
       "      <th>007d0af9417f8987d80c5cad1afd553c</th>\n",
       "      <td>0</td>\n",
       "      <td>3.000000</td>\n",
       "      <td>46.416667</td>\n",
       "      <td>0.000000</td>\n",
       "      <td>4.270833</td>\n",
       "      <td>255.729167</td>\n",
       "      <td>3.020833</td>\n",
       "      <td>0.520833</td>\n",
       "      <td>0.229167</td>\n",
       "      <td>3.354167</td>\n",
       "      <td>1.0</td>\n",
       "    </tr>\n",
       "    <tr>\n",
       "      <th>007d0af9417f8987d80c5cad1afd553c</th>\n",
       "      <td>1</td>\n",
       "      <td>3.000000</td>\n",
       "      <td>26.647059</td>\n",
       "      <td>0.000000</td>\n",
       "      <td>4.058824</td>\n",
       "      <td>617.647059</td>\n",
       "      <td>2.823529</td>\n",
       "      <td>0.823529</td>\n",
       "      <td>0.352941</td>\n",
       "      <td>2.764706</td>\n",
       "      <td>1.0</td>\n",
       "    </tr>\n",
       "    <tr>\n",
       "      <th>00f6fde254b997483af767c48c7d56f4</th>\n",
       "      <td>0</td>\n",
       "      <td>17.692308</td>\n",
       "      <td>10.076923</td>\n",
       "      <td>0.230769</td>\n",
       "      <td>4.230769</td>\n",
       "      <td>1996.153846</td>\n",
       "      <td>3.538462</td>\n",
       "      <td>0.769231</td>\n",
       "      <td>1.000000</td>\n",
       "      <td>4.230769</td>\n",
       "      <td>1.0</td>\n",
       "    </tr>\n",
       "    <tr>\n",
       "      <th>00f6fde254b997483af767c48c7d56f4</th>\n",
       "      <td>1</td>\n",
       "      <td>0.000000</td>\n",
       "      <td>1.000000</td>\n",
       "      <td>0.000000</td>\n",
       "      <td>5.000000</td>\n",
       "      <td>1525.000000</td>\n",
       "      <td>4.000000</td>\n",
       "      <td>0.000000</td>\n",
       "      <td>0.000000</td>\n",
       "      <td>5.000000</td>\n",
       "      <td>1.0</td>\n",
       "    </tr>\n",
       "    <tr>\n",
       "      <th>016bd5f6835504003e6470a167bdefbf</th>\n",
       "      <td>0</td>\n",
       "      <td>10.000000</td>\n",
       "      <td>3.000000</td>\n",
       "      <td>0.500000</td>\n",
       "      <td>5.000000</td>\n",
       "      <td>725.000000</td>\n",
       "      <td>3.000000</td>\n",
       "      <td>1.000000</td>\n",
       "      <td>0.000000</td>\n",
       "      <td>4.500000</td>\n",
       "      <td>1.0</td>\n",
       "    </tr>\n",
       "    <tr>\n",
       "      <th>...</th>\n",
       "      <td>...</td>\n",
       "      <td>...</td>\n",
       "      <td>...</td>\n",
       "      <td>...</td>\n",
       "      <td>...</td>\n",
       "      <td>...</td>\n",
       "      <td>...</td>\n",
       "      <td>...</td>\n",
       "      <td>...</td>\n",
       "      <td>...</td>\n",
       "      <td>...</td>\n",
       "    </tr>\n",
       "    <tr>\n",
       "      <th>fedbb5f3d8236cccebefde049c7695c2</th>\n",
       "      <td>1</td>\n",
       "      <td>14.000000</td>\n",
       "      <td>3.000000</td>\n",
       "      <td>0.000000</td>\n",
       "      <td>5.000000</td>\n",
       "      <td>525.000000</td>\n",
       "      <td>3.000000</td>\n",
       "      <td>0.000000</td>\n",
       "      <td>0.000000</td>\n",
       "      <td>2.000000</td>\n",
       "      <td>0.0</td>\n",
       "    </tr>\n",
       "    <tr>\n",
       "      <th>ffabaf84a6596d1147c510b920489876</th>\n",
       "      <td>0</td>\n",
       "      <td>28.571429</td>\n",
       "      <td>11.285714</td>\n",
       "      <td>0.000000</td>\n",
       "      <td>4.285714</td>\n",
       "      <td>11185.714286</td>\n",
       "      <td>4.142857</td>\n",
       "      <td>0.714286</td>\n",
       "      <td>0.714286</td>\n",
       "      <td>2.857143</td>\n",
       "      <td>1.0</td>\n",
       "    </tr>\n",
       "    <tr>\n",
       "      <th>ffabaf84a6596d1147c510b920489876</th>\n",
       "      <td>1</td>\n",
       "      <td>69.000000</td>\n",
       "      <td>1.000000</td>\n",
       "      <td>0.000000</td>\n",
       "      <td>4.000000</td>\n",
       "      <td>375.000000</td>\n",
       "      <td>3.000000</td>\n",
       "      <td>0.000000</td>\n",
       "      <td>0.000000</td>\n",
       "      <td>3.000000</td>\n",
       "      <td>0.0</td>\n",
       "    </tr>\n",
       "    <tr>\n",
       "      <th>ffbcea5e37dca3585c3f0cb4b05540c1</th>\n",
       "      <td>0</td>\n",
       "      <td>9.818182</td>\n",
       "      <td>6.833333</td>\n",
       "      <td>0.083333</td>\n",
       "      <td>4.000000</td>\n",
       "      <td>691.666667</td>\n",
       "      <td>3.333333</td>\n",
       "      <td>0.833333</td>\n",
       "      <td>0.583333</td>\n",
       "      <td>2.166667</td>\n",
       "      <td>1.0</td>\n",
       "    </tr>\n",
       "    <tr>\n",
       "      <th>ffbcea5e37dca3585c3f0cb4b05540c1</th>\n",
       "      <td>1</td>\n",
       "      <td>3.000000</td>\n",
       "      <td>8.000000</td>\n",
       "      <td>0.000000</td>\n",
       "      <td>4.000000</td>\n",
       "      <td>1025.000000</td>\n",
       "      <td>3.000000</td>\n",
       "      <td>1.000000</td>\n",
       "      <td>1.000000</td>\n",
       "      <td>1.000000</td>\n",
       "      <td>1.0</td>\n",
       "    </tr>\n",
       "  </tbody>\n",
       "</table>\n",
       "<p>1412 rows × 11 columns</p>\n",
       "</div>"
      ],
      "text/plain": [
       "                                  is_trans  days_before_staying       rank  \\\n",
       "user_id                                                                      \n",
       "007d0af9417f8987d80c5cad1afd553c         0             3.000000  46.416667   \n",
       "007d0af9417f8987d80c5cad1afd553c         1             3.000000  26.647059   \n",
       "00f6fde254b997483af767c48c7d56f4         0            17.692308  10.076923   \n",
       "00f6fde254b997483af767c48c7d56f4         1             0.000000   1.000000   \n",
       "016bd5f6835504003e6470a167bdefbf         0            10.000000   3.000000   \n",
       "...                                    ...                  ...        ...   \n",
       "fedbb5f3d8236cccebefde049c7695c2         1            14.000000   3.000000   \n",
       "ffabaf84a6596d1147c510b920489876         0            28.571429  11.285714   \n",
       "ffabaf84a6596d1147c510b920489876         1            69.000000   1.000000   \n",
       "ffbcea5e37dca3585c3f0cb4b05540c1         0             9.818182   6.833333   \n",
       "ffbcea5e37dca3585c3f0cb4b05540c1         1             3.000000   8.000000   \n",
       "\n",
       "                                  is_travel_ad  review_rating  review_count  \\\n",
       "user_id                                                                       \n",
       "007d0af9417f8987d80c5cad1afd553c      0.000000       4.270833    255.729167   \n",
       "007d0af9417f8987d80c5cad1afd553c      0.000000       4.058824    617.647059   \n",
       "00f6fde254b997483af767c48c7d56f4      0.230769       4.230769   1996.153846   \n",
       "00f6fde254b997483af767c48c7d56f4      0.000000       5.000000   1525.000000   \n",
       "016bd5f6835504003e6470a167bdefbf      0.500000       5.000000    725.000000   \n",
       "...                                        ...            ...           ...   \n",
       "fedbb5f3d8236cccebefde049c7695c2      0.000000       5.000000    525.000000   \n",
       "ffabaf84a6596d1147c510b920489876      0.000000       4.285714  11185.714286   \n",
       "ffabaf84a6596d1147c510b920489876      0.000000       4.000000    375.000000   \n",
       "ffbcea5e37dca3585c3f0cb4b05540c1      0.083333       4.000000    691.666667   \n",
       "ffbcea5e37dca3585c3f0cb4b05540c1      0.000000       4.000000   1025.000000   \n",
       "\n",
       "                                  star_rating  is_free_cancellation    is_drr  \\\n",
       "user_id                                                                         \n",
       "007d0af9417f8987d80c5cad1afd553c     3.020833              0.520833  0.229167   \n",
       "007d0af9417f8987d80c5cad1afd553c     2.823529              0.823529  0.352941   \n",
       "00f6fde254b997483af767c48c7d56f4     3.538462              0.769231  1.000000   \n",
       "00f6fde254b997483af767c48c7d56f4     4.000000              0.000000  0.000000   \n",
       "016bd5f6835504003e6470a167bdefbf     3.000000              1.000000  0.000000   \n",
       "...                                       ...                   ...       ...   \n",
       "fedbb5f3d8236cccebefde049c7695c2     3.000000              0.000000  0.000000   \n",
       "ffabaf84a6596d1147c510b920489876     4.142857              0.714286  0.714286   \n",
       "ffabaf84a6596d1147c510b920489876     3.000000              0.000000  0.000000   \n",
       "ffbcea5e37dca3585c3f0cb4b05540c1     3.333333              0.833333  0.583333   \n",
       "ffbcea5e37dca3585c3f0cb4b05540c1     3.000000              1.000000  1.000000   \n",
       "\n",
       "                                  price_bucket  num_clicks  \n",
       "user_id                                                     \n",
       "007d0af9417f8987d80c5cad1afd553c      3.354167         1.0  \n",
       "007d0af9417f8987d80c5cad1afd553c      2.764706         1.0  \n",
       "00f6fde254b997483af767c48c7d56f4      4.230769         1.0  \n",
       "00f6fde254b997483af767c48c7d56f4      5.000000         1.0  \n",
       "016bd5f6835504003e6470a167bdefbf      4.500000         1.0  \n",
       "...                                        ...         ...  \n",
       "fedbb5f3d8236cccebefde049c7695c2      2.000000         0.0  \n",
       "ffabaf84a6596d1147c510b920489876      2.857143         1.0  \n",
       "ffabaf84a6596d1147c510b920489876      3.000000         0.0  \n",
       "ffbcea5e37dca3585c3f0cb4b05540c1      2.166667         1.0  \n",
       "ffbcea5e37dca3585c3f0cb4b05540c1      1.000000         1.0  \n",
       "\n",
       "[1412 rows x 11 columns]"
      ]
     },
     "execution_count": 135,
     "metadata": {},
     "output_type": "execute_result"
    }
   ],
   "source": []
  },
  {
   "cell_type": "code",
   "execution_count": 141,
   "id": "united-termination",
   "metadata": {
    "scrolled": false
   },
   "outputs": [
    {
     "data": {
      "text/plain": [
       "<seaborn.axisgrid.FacetGrid at 0x1eaf7bc66d0>"
      ]
     },
     "execution_count": 141,
     "metadata": {},
     "output_type": "execute_result"
    },
    {
     "data": {
      "image/png": "[encoded data removed]",
      "text/plain": [
       "<Figure size 406.875x360 with 1 Axes>"
      ]
     },
     "metadata": {
      "needs_background": "light"
     },
     "output_type": "display_data"
    }
   ],
   "source": [
    "sns.displot(x = 'price_bucket',hue = 'is_trans',data = k, kind=\"kde\")\n",
    "# Obviously the visitors are clicking on average on more expensive \n",
    "# hotels than the ones they are booking"
   ]
  }
 ],
 "metadata": {
  "kernelspec": {
   "display_name": "Python 3",
   "language": "python",
   "name": "python3"
  },
  "language_info": {
   "codemirror_mode": {
    "name": "ipython",
    "version": 3
   },
   "file_extension": ".py",
   "mimetype": "text/x-python",
   "name": "python",
   "nbconvert_exporter": "python",
   "pygments_lexer": "ipython3",
   "version": "3.9.1"
  }
 },
 "nbformat": 4,
 "nbformat_minor": 5
}
