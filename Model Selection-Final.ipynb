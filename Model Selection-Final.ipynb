{
 "cells": [
  {
   "cell_type": "code",
   "execution_count": 18,
   "id": "mysterious-vampire",
   "metadata": {},
   "outputs": [],
   "source": [
    "import pandas as pd\n",
    "import numpy as np\n",
    "from gensim.models import Word2Vec\n",
    "from gensim.models import KeyedVectors"
   ]
  },
  {
   "cell_type": "markdown",
   "id": "occupational-biodiversity",
   "metadata": {},
   "source": [
    "## IMPORTING AND SETTING UP THE SEQUENCES"
   ]
  },
  {
   "cell_type": "code",
   "execution_count": 19,
   "id": "fluid-suffering",
   "metadata": {},
   "outputs": [],
   "source": [
    "sequences = pd.read_csv('w.csv', sep='\\t', header=0)"
   ]
  },
  {
   "cell_type": "code",
   "execution_count": 20,
   "id": "dress-separate",
   "metadata": {},
   "outputs": [
    {
     "data": {
      "text/html": [
       "<div>\n",
       "<style scoped>\n",
       "    .dataframe tbody tr th:only-of-type {\n",
       "        vertical-align: middle;\n",
       "    }\n",
       "\n",
       "    .dataframe tbody tr th {\n",
       "        vertical-align: top;\n",
       "    }\n",
       "\n",
       "    .dataframe thead th {\n",
       "        text-align: right;\n",
       "    }\n",
       "</style>\n",
       "<table border=\"1\" class=\"dataframe\">\n",
       "  <thead>\n",
       "    <tr style=\"text-align: right;\">\n",
       "      <th></th>\n",
       "      <th>hotels</th>\n",
       "    </tr>\n",
       "  </thead>\n",
       "  <tbody>\n",
       "    <tr>\n",
       "      <th>0</th>\n",
       "      <td>['1943423', '5603582', '584327']</td>\n",
       "    </tr>\n",
       "    <tr>\n",
       "      <th>1</th>\n",
       "      <td>['2842610']</td>\n",
       "    </tr>\n",
       "    <tr>\n",
       "      <th>2</th>\n",
       "      <td>['4869510']</td>\n",
       "    </tr>\n",
       "    <tr>\n",
       "      <th>3</th>\n",
       "      <td>['2418979']</td>\n",
       "    </tr>\n",
       "    <tr>\n",
       "      <th>4</th>\n",
       "      <td>['3311750', '4130544', '6162264']</td>\n",
       "    </tr>\n",
       "    <tr>\n",
       "      <th>...</th>\n",
       "      <td>...</td>\n",
       "    </tr>\n",
       "    <tr>\n",
       "      <th>143389</th>\n",
       "      <td>['3959122', '6437848', '4973328', '4182298', '...</td>\n",
       "    </tr>\n",
       "    <tr>\n",
       "      <th>143390</th>\n",
       "      <td>['2256352', '816462']</td>\n",
       "    </tr>\n",
       "    <tr>\n",
       "      <th>143391</th>\n",
       "      <td>['4807793', '1624053', '3634417', '4059241', '...</td>\n",
       "    </tr>\n",
       "    <tr>\n",
       "      <th>143392</th>\n",
       "      <td>['2145364', '221802']</td>\n",
       "    </tr>\n",
       "    <tr>\n",
       "      <th>143393</th>\n",
       "      <td>['3284844', '1958933', '1317946']</td>\n",
       "    </tr>\n",
       "  </tbody>\n",
       "</table>\n",
       "<p>143394 rows × 1 columns</p>\n",
       "</div>"
      ],
      "text/plain": [
       "                                                   hotels\n",
       "0                        ['1943423', '5603582', '584327']\n",
       "1                                             ['2842610']\n",
       "2                                             ['4869510']\n",
       "3                                             ['2418979']\n",
       "4                       ['3311750', '4130544', '6162264']\n",
       "...                                                   ...\n",
       "143389  ['3959122', '6437848', '4973328', '4182298', '...\n",
       "143390                              ['2256352', '816462']\n",
       "143391  ['4807793', '1624053', '3634417', '4059241', '...\n",
       "143392                              ['2145364', '221802']\n",
       "143393                  ['3284844', '1958933', '1317946']\n",
       "\n",
       "[143394 rows x 1 columns]"
      ]
     },
     "execution_count": 20,
     "metadata": {},
     "output_type": "execute_result"
    }
   ],
   "source": [
    "sequences"
   ]
  },
  {
   "cell_type": "code",
   "execution_count": 21,
   "id": "unexpected-farming",
   "metadata": {},
   "outputs": [],
   "source": [
    "def func(x):\n",
    "    x = x[1:-1]\n",
    "    x = x.replace(\" \", \"\")\n",
    "    x = x.replace(\"'\", \"\")\n",
    "    x = x.split(',')\n",
    "    return x"
   ]
  },
  {
   "cell_type": "code",
   "execution_count": 22,
   "id": "intelligent-jacob",
   "metadata": {},
   "outputs": [],
   "source": [
    "sequences = sequences.hotels.apply(func)"
   ]
  },
  {
   "cell_type": "code",
   "execution_count": 23,
   "id": "attempted-company",
   "metadata": {},
   "outputs": [
    {
     "data": {
      "text/plain": [
       "0                                [1943423, 5603582, 584327]\n",
       "1                                                 [2842610]\n",
       "2                                                 [4869510]\n",
       "3                                                 [2418979]\n",
       "4                               [3311750, 4130544, 6162264]\n",
       "                                ...                        \n",
       "143389    [3959122, 6437848, 4973328, 4182298, 335995, 3...\n",
       "143390                                    [2256352, 816462]\n",
       "143391    [4807793, 1624053, 3634417, 4059241, 5284416, ...\n",
       "143392                                    [2145364, 221802]\n",
       "143393                          [3284844, 1958933, 1317946]\n",
       "Name: hotels, Length: 143394, dtype: object"
      ]
     },
     "execution_count": 23,
     "metadata": {},
     "output_type": "execute_result"
    }
   ],
   "source": [
    "sequences"
   ]
  },
  {
   "cell_type": "markdown",
   "id": "developed-manufacturer",
   "metadata": {},
   "source": [
    "## TRAIN TEST SPLIT"
   ]
  },
  {
   "cell_type": "code",
   "execution_count": 24,
   "id": "frequent-sending",
   "metadata": {},
   "outputs": [],
   "source": [
    "#1) Split train and test\n",
    "\n",
    "\n",
    "\n",
    "\n",
    "\n",
    "\n",
    "from sklearn.model_selection import train_test_split\n",
    "\n",
    "\n",
    "\n",
    "X_train, X_test = train_test_split(\n",
    "  sequences,  test_size=0.2, random_state=42)"
   ]
  },
  {
   "cell_type": "markdown",
   "id": "fabulous-prototype",
   "metadata": {},
   "source": [
    "k = 3\n",
    "for i in range(1,6):\n",
    "    for j in range(200,2100,200):\n",
    "        mymodel = Word2Vec(X_train,min_count = i,vector_size = 32,negative = j, workers = k)\n",
    "        mymodel.save(f\"hotel2vec,min{i}neg{j}work{k}window5.model\")"
   ]
  },
  {
   "cell_type": "code",
   "execution_count": 25,
   "id": "loving-orbit",
   "metadata": {},
   "outputs": [
    {
     "data": {
      "text/plain": [
       "93369     [2439858, 1000465, 353916, 4447057, 6902250, 1...\n",
       "83933                     [2856315, 629844, 625780, 633558]\n",
       "21737                                    [1127179, 1274101]\n",
       "29341     [3325337, 4895761, 980408, 2019205, 1786106, 2...\n",
       "6692                                     [5134132, 3362734]\n",
       "                                ...                        \n",
       "110268                 [1786200, 6518774, 3515800, 4861669]\n",
       "119879                          [4214243, 1566354, 3221504]\n",
       "103694                                   [4528588, 1622147]\n",
       "131932    [1750386, 3402888, 33186, 3972860, 4077320, 66...\n",
       "121958                          [2130028, 6677420, 3805991]\n",
       "Name: hotels, Length: 114715, dtype: object"
      ]
     },
     "execution_count": 25,
     "metadata": {},
     "output_type": "execute_result"
    }
   ],
   "source": [
    "X_train"
   ]
  },
  {
   "cell_type": "markdown",
   "id": "professional-specialist",
   "metadata": {},
   "source": [
    "k = 3\n",
    "for i in range(1,6):\n",
    "    for j in range(200,2100,200):\n",
    "        for l in range(10,50,10):\n",
    "            mymodel = Word2Vec(X_train,min_count = i,vector_size = 32,negative = j,window = l, workers = k)\n",
    "            mymodel.save(f\"hotel2vec,min{i}neg{j}work{k}window{l}.model\")"
   ]
  },
  {
   "cell_type": "markdown",
   "id": "complimentary-language",
   "metadata": {},
   "source": [
    "## LOAD MODELS"
   ]
  },
  {
   "cell_type": "code",
   "execution_count": 26,
   "id": "impressive-thumbnail",
   "metadata": {},
   "outputs": [],
   "source": [
    "X_test = X_test.reset_index()\n",
    "X_test.drop('index', inplace=True, axis=1)"
   ]
  },
  {
   "cell_type": "markdown",
   "id": "killing-geneva",
   "metadata": {},
   "source": [
    "### TRANSFORMING SEQUENCES TO X,Y"
   ]
  },
  {
   "cell_type": "markdown",
   "id": "binding-cookbook",
   "metadata": {},
   "source": [
    "### MEAN OF PREVIOUS CLICKS"
   ]
  },
  {
   "cell_type": "code",
   "execution_count": 46,
   "id": "minute-wheat",
   "metadata": {},
   "outputs": [],
   "source": [
    "def meanclick(model,X_test):\n",
    "\n",
    "    mymodel = KeyedVectors.load(model, mmap='r') \n",
    "    def erase_voc(X):\n",
    "        k = X.copy()\n",
    "        for i in X:\n",
    "            if i not in mymodel.wv.index_to_key:\n",
    "                k.remove(i)\n",
    "        return k\n",
    "    def tomodel(x):\n",
    "        a=[]\n",
    "        for i in x:\n",
    "            a.append(mymodel.wv[i])\n",
    "        return a \n",
    "    X_new = X_test.hotels.apply(erase_voc)\n",
    "    X_new = X_new[X_new.apply(lambda x : len(x)> 1)]\n",
    "    X_new1 = X_new.apply(tomodel)\n",
    "    X_new = X_new.reset_index()\n",
    "    X_new.drop('index', inplace=True, axis=1)\n",
    "    X_new1 = X_new1.reset_index()\n",
    "    X_new1.drop('index', inplace=True, axis=1)\n",
    "    A = []\n",
    "    B = []\n",
    "    for i in range(0,len(X_new.hotels)):\n",
    "        a = [X_new1.hotels[i][0]]\n",
    "        x = [X_new1.hotels[i][0]]\n",
    "        y = [X_new.hotels[i][1]]\n",
    "        for j in range(1,len(X_new1.hotels[i])-1):\n",
    "\n",
    "            a.append(X_new1.hotels[i][j])\n",
    "            x.append(sum(a)/len(a))\n",
    "            y.append(X_new.hotels[i][j+1])\n",
    "        A.append(x)\n",
    "        B.append(y)\n",
    "    X_te = [i for sublist in A for i in sublist]\n",
    "    Y_te = [i for sublist in B for i in sublist]  \n",
    "    data = pd.DataFrame(Y_te,columns = ['Y_te'])\n",
    "    data['X_te'] = X_te\n",
    "    return data"
   ]
  },
  {
   "cell_type": "markdown",
   "id": "international-behavior",
   "metadata": {},
   "source": [
    "### PREVIOUS CLICK"
   ]
  },
  {
   "cell_type": "code",
   "execution_count": 47,
   "id": "closing-touch",
   "metadata": {},
   "outputs": [],
   "source": [
    "def previousclick(model,X_test):\n",
    "        mymodel = KeyedVectors.load(model, mmap='r') \n",
    "        def erase_voc(X):\n",
    "            k = X.copy()\n",
    "            for i in X:\n",
    "                if i not in mymodel.wv.index_to_key:\n",
    "                    k.remove(i)\n",
    "            return k\n",
    "        def tomodel(x):\n",
    "            a=[]\n",
    "            for i in x:\n",
    "                a.append(mymodel.wv[i])\n",
    "            return a\n",
    "\n",
    "                   \n",
    "        X_new = X_test.hotels.apply(erase_voc)\n",
    "        X_new = X_new[X_new.apply(lambda x : len(x)> 1)]\n",
    "        X_new1 = X_new.apply(tomodel)\n",
    "        X_new = X_new.reset_index()\n",
    "        X_new.drop('index', inplace=True, axis=1)\n",
    "        X_new1 = X_new1.reset_index()\n",
    "        X_new1.drop('index', inplace=True, axis=1)\n",
    "        A = []\n",
    "        B = []\n",
    "        for i in range(0,len(X_new.hotels)):\n",
    "            \n",
    "            x = [X_new1.hotels[i][0]]\n",
    "            y = [X_new.hotels[i][1]]\n",
    "            for j in range(1,len(X_new1.hotels[i])-1):\n",
    "                \n",
    "                x.append(X_new.hotels[i][j])\n",
    "                y.append(X_new.hotels[i][j+1])\n",
    "            A.append(x)\n",
    "            B.append(y)\n",
    "        X_te = [i for sublist in A for i in sublist]\n",
    "        Y_te = [i for sublist in B for i in sublist]  \n",
    "        data = pd.DataFrame(Y_te,columns = ['Y_te'])\n",
    "        data['X_te'] = X_te\n",
    "        return data"
   ]
  },
  {
   "cell_type": "markdown",
   "id": "necessary-sense",
   "metadata": {},
   "source": [
    "## EVALUATION METRICS"
   ]
  },
  {
   "cell_type": "markdown",
   "id": "permanent-mattress",
   "metadata": {},
   "source": [
    "### HITS@K"
   ]
  },
  {
   "cell_type": "code",
   "execution_count": 110,
   "id": "hawaiian-breathing",
   "metadata": {},
   "outputs": [],
   "source": [
    "def hits(dataframe,K,sample,model):\n",
    "    mymodel = KeyedVectors.load(model, mmap='r') \n",
    "    def sim_hotels(vector,topn):\n",
    "        \n",
    "        a = []\n",
    "        for i in range(0,len(mymodel.wv.similar_by_vector(vector, topn=topn, restrict_vocab=None))):\n",
    "            a.append(mymodel.wv.similar_by_vector(vector, topn=topn,restrict_vocab=None)[i][0])\n",
    "        return a\n",
    "    if sample==1:\n",
    "        dataframe = dataframe.sample(1000,random_state = 6)                 \n",
    "\n",
    "    dataframe['hits'] = 0\n",
    "    dataframe['hits'] = dataframe.apply(lambda row:  row.Y_te in sim_hotels(row.X_te,K),axis = 1);\n",
    "    hits = dataframe.hits.value_counts(normalize = True)\n",
    "    if len(hits) ==2:\n",
    "        value = hits[1]\n",
    "    else:\n",
    "        value = 0\n",
    "    return value"
   ]
  },
  {
   "cell_type": "markdown",
   "id": "destroyed-thompson",
   "metadata": {},
   "source": [
    "### MEAN RECIPROCAL RANK@K"
   ]
  },
  {
   "cell_type": "code",
   "execution_count": 135,
   "id": "entitled-worse",
   "metadata": {},
   "outputs": [],
   "source": [
    "def MRR(dataframe,K,sample,model):\n",
    "    mymodel = KeyedVectors.load(model, mmap='r') \n",
    "    def sim_hotels(vector,topn):\n",
    "        a = []\n",
    "        for i in range(0,len(mymodel.wv.similar_by_vector(vector, topn=topn, restrict_vocab=None))):\n",
    "            a.append(mymodel.wv.similar_by_vector(vector, topn=topn,restrict_vocab=None)[i][0])\n",
    "        return a\n",
    "    def rr(x,y):\n",
    "            s = 0\n",
    "            for i in range(0,len(y)):\n",
    "                if x== y[i]:\n",
    "                    s = 1/(i+1)\n",
    "                    break\n",
    "            return s\n",
    "                  \n",
    "    \n",
    "    if sample==1:\n",
    "        dataframe = dataframe.sample(1000,random_state = 6)    \n",
    "    dataframe['hits'] = 0\n",
    "    dataframe['hits'] = dataframe.apply(lambda row:  rr(row.Y_te,sim_hotels(row.X_te,K)),axis = 1);\n",
    "    hits = dataframe.hits.value_counts(normalize = True)\n",
    "    if len(hits) ==2:\n",
    "        value = hits[1]\n",
    "    else: value = 0\n",
    "    return value\n",
    "    return print('model: ',model,' hits@k: ',hits)"
   ]
  },
  {
   "cell_type": "code",
   "execution_count": null,
   "id": "round-plane",
   "metadata": {},
   "outputs": [],
   "source": []
  },
  {
   "cell_type": "markdown",
   "id": "optical-payment",
   "metadata": {},
   "source": [
    "## MODEL SELECTION BASED ON METRICS"
   ]
  },
  {
   "cell_type": "markdown",
   "id": "ambient-accommodation",
   "metadata": {},
   "source": [
    "### MEAN OF PREVIOUS CLICKS"
   ]
  },
  {
   "cell_type": "code",
   "execution_count": 112,
   "id": "roman-nicaragua",
   "metadata": {},
   "outputs": [],
   "source": [
    "k = 3\n",
    "\n",
    "evaluation_list1 = {}\n",
    "for i in range(1,3): \n",
    "    for j in range(5,21,5):\n",
    "    \n",
    "            ten = hits(meanclick(f'hotel2vec,min{i}neg{j}work{k}skiphs.model',X_test),\n",
    "                10, 1,  f'hotel2vec,min{i}neg{j}work{k}skiphs.model')\n",
    "            evaluation_list1[f'negative = {j},words_min = {i}'] = ten\n",
    "        \n",
    "for j in range(40,101,20):\n",
    "    for i in range(1,3):\n",
    "        ten = hits(meanclick(f'hotel2vec,min{i}neg{j}work{k}skiphs.model',X_test),\n",
    "                10, 1,  f'hotel2vec,min{i}neg{j}work{k}skiphs.model')\n",
    "        evaluation_list1[f'negative = {j},words_min = {i}'] = ten\n",
    "    \n",
    "for j in range(200,1001,100):\n",
    "    for i in range(1,3):\n",
    "        ten = hits(meanclick(f'hotel2vec,min{i}neg{j}work{k}skiphs.model',X_test),\n",
    "                10, 1,  f'hotel2vec,min{i}neg{j}work{k}skiphs.model')\n",
    "        evaluation_list1[f'negative = {j},words_min = {i}'] = ten"
   ]
  },
  {
   "cell_type": "code",
   "execution_count": 113,
   "id": "sublime-certification",
   "metadata": {},
   "outputs": [
    {
     "data": {
      "text/plain": [
       "{'negative = 5,words_min = 1': 0.118,\n",
       " 'negative = 10,words_min = 1': 0.105,\n",
       " 'negative = 15,words_min = 1': 0.097,\n",
       " 'negative = 20,words_min = 1': 0.087,\n",
       " 'negative = 5,words_min = 2': 0.142,\n",
       " 'negative = 10,words_min = 2': 0.118,\n",
       " 'negative = 15,words_min = 2': 0.126,\n",
       " 'negative = 20,words_min = 2': 0.122,\n",
       " 'negative = 40,words_min = 1': 0.086,\n",
       " 'negative = 40,words_min = 2': 0.113,\n",
       " 'negative = 60,words_min = 1': 0.086,\n",
       " 'negative = 60,words_min = 2': 0.108,\n",
       " 'negative = 80,words_min = 1': 0.089,\n",
       " 'negative = 80,words_min = 2': 0.119,\n",
       " 'negative = 100,words_min = 1': 0.084,\n",
       " 'negative = 100,words_min = 2': 0.11,\n",
       " 'negative = 200,words_min = 1': 0.073,\n",
       " 'negative = 200,words_min = 2': 0.098,\n",
       " 'negative = 300,words_min = 1': 0.063,\n",
       " 'negative = 300,words_min = 2': 0.093,\n",
       " 'negative = 400,words_min = 1': 0.067,\n",
       " 'negative = 400,words_min = 2': 0.101,\n",
       " 'negative = 500,words_min = 1': 0.065,\n",
       " 'negative = 500,words_min = 2': 0.088,\n",
       " 'negative = 600,words_min = 1': 0.063,\n",
       " 'negative = 600,words_min = 2': 0.084,\n",
       " 'negative = 700,words_min = 1': 0.061,\n",
       " 'negative = 700,words_min = 2': 0.078,\n",
       " 'negative = 800,words_min = 1': 0.043,\n",
       " 'negative = 800,words_min = 2': 0.082,\n",
       " 'negative = 900,words_min = 1': 0.052,\n",
       " 'negative = 900,words_min = 2': 0.079,\n",
       " 'negative = 1000,words_min = 1': 0.051,\n",
       " 'negative = 1000,words_min = 2': 0.075}"
      ]
     },
     "execution_count": 113,
     "metadata": {},
     "output_type": "execute_result"
    }
   ],
   "source": [
    "evaluation_list_hits10_mean_of_clicks = evaluation_list1\n",
    "evaluation_list_hits10_mean_of_clicks"
   ]
  },
  {
   "cell_type": "code",
   "execution_count": 121,
   "id": "changed-pastor",
   "metadata": {},
   "outputs": [
    {
     "data": {
      "text/plain": [
       "('negative = 5,words_min = 2', 0.142)"
      ]
     },
     "execution_count": 121,
     "metadata": {},
     "output_type": "execute_result"
    }
   ],
   "source": [
    "import operator\n",
    "best_case = max(evaluation_list_hits10_mean_of_clicks.items(), key=operator.itemgetter(1))\n",
    "best_case"
   ]
  },
  {
   "cell_type": "markdown",
   "id": "stopped-billy",
   "metadata": {},
   "source": [
    "### PREVIOUS CLICK"
   ]
  },
  {
   "cell_type": "code",
   "execution_count": 114,
   "id": "indirect-country",
   "metadata": {},
   "outputs": [],
   "source": [
    "k = 3\n",
    "\n",
    "evaluation_list2 = {}\n",
    "\n",
    "for i in range(1,3): \n",
    "    for j in range(5,21,5):\n",
    "    \n",
    "            ten = hits(previousclick(f'hotel2vec,min{i}neg{j}work{k}skiphs.model',X_test),\n",
    "                10, 1,  f'hotel2vec,min{i}neg{j}work{k}skiphs.model')\n",
    "            evaluation_list2[f'negative = {j},words_min = {i}'] = ten\n",
    "        \n",
    "for i in range(1,3):\n",
    "    for j in range(40,101,20):\n",
    "\n",
    "        ten = hits(previousclick(f'hotel2vec,min{i}neg{j}work{k}skiphs.model',X_test),\n",
    "                10, 1,  f'hotel2vec,min{i}neg{j}work{k}skiphs.model')\n",
    "        evaluation_list2[f'negative = {j},words_min = {i}'] = ten\n",
    "    \n",
    "for i in range(1,3):\n",
    "    for j in range(200,1001,100):\n",
    "\n",
    "        ten = hits(previousclick(f'hotel2vec,min{i}neg{j}work{k}skiphs.model',X_test),\n",
    "                10, 1,  f'hotel2vec,min{i}neg{j}work{k}skiphs.model')\n",
    "        evaluation_list2[f'negative = {j},words_min = {i}'] = ten"
   ]
  },
  {
   "cell_type": "code",
   "execution_count": 116,
   "id": "respective-thursday",
   "metadata": {},
   "outputs": [
    {
     "data": {
      "text/plain": [
       "{'negative = 5,words_min = 1': 0.136,\n",
       " 'negative = 10,words_min = 1': 0.14,\n",
       " 'negative = 15,words_min = 1': 0.136,\n",
       " 'negative = 20,words_min = 1': 0.148,\n",
       " 'negative = 5,words_min = 2': 0.165,\n",
       " 'negative = 10,words_min = 2': 0.176,\n",
       " 'negative = 15,words_min = 2': 0.167,\n",
       " 'negative = 20,words_min = 2': 0.166,\n",
       " 'negative = 40,words_min = 1': 0.138,\n",
       " 'negative = 60,words_min = 1': 0.122,\n",
       " 'negative = 80,words_min = 1': 0.131,\n",
       " 'negative = 100,words_min = 1': 0.124,\n",
       " 'negative = 40,words_min = 2': 0.167,\n",
       " 'negative = 60,words_min = 2': 0.15,\n",
       " 'negative = 80,words_min = 2': 0.154,\n",
       " 'negative = 100,words_min = 2': 0.149,\n",
       " 'negative = 200,words_min = 1': 0.114,\n",
       " 'negative = 300,words_min = 1': 0.101,\n",
       " 'negative = 400,words_min = 1': 0.106,\n",
       " 'negative = 500,words_min = 1': 0.091,\n",
       " 'negative = 600,words_min = 1': 0.082,\n",
       " 'negative = 700,words_min = 1': 0.084,\n",
       " 'negative = 800,words_min = 1': 0.074,\n",
       " 'negative = 900,words_min = 1': 0.081,\n",
       " 'negative = 1000,words_min = 1': 0.079,\n",
       " 'negative = 200,words_min = 2': 0.136,\n",
       " 'negative = 300,words_min = 2': 0.135,\n",
       " 'negative = 400,words_min = 2': 0.129,\n",
       " 'negative = 500,words_min = 2': 0.117,\n",
       " 'negative = 600,words_min = 2': 0.104,\n",
       " 'negative = 700,words_min = 2': 0.1,\n",
       " 'negative = 800,words_min = 2': 0.108,\n",
       " 'negative = 900,words_min = 2': 0.098,\n",
       " 'negative = 1000,words_min = 2': 0.095}"
      ]
     },
     "execution_count": 116,
     "metadata": {},
     "output_type": "execute_result"
    }
   ],
   "source": [
    "evaluation_list_hits10_previous_click = evaluation_list2\n",
    "evaluation_list_hits10_previous_click"
   ]
  },
  {
   "cell_type": "code",
   "execution_count": 122,
   "id": "three-westminster",
   "metadata": {},
   "outputs": [
    {
     "data": {
      "text/plain": [
       "('negative = 10,words_min = 2', 0.176)"
      ]
     },
     "execution_count": 122,
     "metadata": {},
     "output_type": "execute_result"
    }
   ],
   "source": [
    "import operator\n",
    "best_case = max(evaluation_list_hits10_previous_click.items(), key=operator.itemgetter(1))\n",
    "best_case"
   ]
  },
  {
   "cell_type": "markdown",
   "id": "numerical-floor",
   "metadata": {},
   "source": [
    "According to the above hits@10 metrics of the sample we choose model with negative sample equal to 5 and word minimum of 2 and\n",
    "the aggregation which only includes the previous click.\n",
    "Below we will compute the complete hits@10,hits@100, mrr@10 and mrr@100."
   ]
  },
  {
   "cell_type": "markdown",
   "id": "handed-imagination",
   "metadata": {},
   "source": [
    "### FINAL MODEL METRICS"
   ]
  },
  {
   "cell_type": "code",
   "execution_count": null,
   "id": "nervous-texas",
   "metadata": {},
   "outputs": [],
   "source": [
    "model_evaluation = {}\n",
    "model_evaluation['hits@10'] = hits(previousclick('hotel2vec,min2neg5work3skiphs.model',X_test),\n",
    "        10, 0,  'hotel2vec,min2neg5work3skiphs.model')\n",
    "model_evaluation['hits@100'] = hits(previousclick('hotel2vec,min2neg5work3skiphs.model',X_test),\n",
    "        100, 0,  'hotel2vec,min2neg5work3skiphs.model')\n"
   ]
  },
  {
   "cell_type": "code",
   "execution_count": 137,
   "id": "alike-switzerland",
   "metadata": {},
   "outputs": [
    {
     "data": {
      "text/plain": [
       "{'hits@10': 0.15704293786666346, 'hits@100': 0.5288471920626732, 'MRR@10': 0}"
      ]
     },
     "execution_count": 137,
     "metadata": {},
     "output_type": "execute_result"
    }
   ],
   "source": [
    "model_evaluation"
   ]
  },
  {
   "cell_type": "code",
   "execution_count": null,
   "id": "about-combine",
   "metadata": {},
   "outputs": [],
   "source": [
    "model_evaluation['MRR@10'] = MRR(previousclick('hotel2vec,min2neg5work3skiphs.model',X_test),\n",
    "        10, 0,  'hotel2vec,min2neg5work3skiphs.model')\n",
    "\n",
    "model_evaluation['MRR@100'] = MRR(previousclick('hotel2vec,min2neg5work3skiphs.model',X_test),\n",
    "        100, 0,  'hotel2vec,min2neg5work3skiphs.model')"
   ]
  },
  {
   "cell_type": "code",
   "execution_count": null,
   "id": "turned-purple",
   "metadata": {},
   "outputs": [],
   "source": []
  }
 ],
 "metadata": {
  "kernelspec": {
   "display_name": "Python 3",
   "language": "python",
   "name": "python3"
  },
  "language_info": {
   "codemirror_mode": {
    "name": "ipython",
    "version": 3
   },
   "file_extension": ".py",
   "mimetype": "text/x-python",
   "name": "python",
   "nbconvert_exporter": "python",
   "pygments_lexer": "ipython3",
   "version": "3.9.1"
  }
 },
 "nbformat": 4,
 "nbformat_minor": 5
}
